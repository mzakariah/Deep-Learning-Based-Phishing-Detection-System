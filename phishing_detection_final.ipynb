{
  "cells": [
    {
      "cell_type": "code",
      "execution_count": 131,
      "metadata": {
        "id": "pe2k46KMXVa4",
        "colab": {
          "base_uri": "https://localhost:8080/"
        },
        "outputId": "949df14f-bf1e-4bbe-e39e-6b4d83b574f9"
      },
      "outputs": [
        {
          "output_type": "stream",
          "name": "stdout",
          "text": [
            "Looking in indexes: https://pypi.org/simple, https://us-python.pkg.dev/colab-wheels/public/simple/\n",
            "Requirement already satisfied: python-whois in /usr/local/lib/python3.8/dist-packages (0.8.0)\n",
            "Requirement already satisfied: future in /usr/local/lib/python3.8/dist-packages (from python-whois) (0.16.0)\n"
          ]
        }
      ],
      "source": [
        "\n",
        "!pip install python-whois"
      ]
    },
    {
      "cell_type": "code",
      "execution_count": 132,
      "metadata": {
        "id": "FJU6MivVXYgy"
      },
      "outputs": [],
      "source": [
        "import pandas as pd\n",
        "import numpy as np\n",
        "import seaborn as sns\n",
        "import matplotlib.pyplot as plt\n",
        "from urllib.parse import urlparse,urlencode\n",
        "import ipaddress\n",
        "import re\n",
        "import re\n",
        "import urllib\n",
        "import urllib.request\n",
        "from datetime import datetime\n",
        "import requests"
      ]
    },
    {
      "cell_type": "code",
      "source": [],
      "metadata": {
        "id": "1ONZ1dUv3HqI"
      },
      "execution_count": 132,
      "outputs": []
    },
    {
      "cell_type": "code",
      "execution_count": 133,
      "metadata": {
        "colab": {
          "base_uri": "https://localhost:8080/"
        },
        "id": "wF5x7mLf3HvB",
        "outputId": "6da3e48a-4f7e-49a3-b35c-f05e66d0ec1f"
      },
      "outputs": [
        {
          "output_type": "stream",
          "name": "stdout",
          "text": [
            "Drive already mounted at /content/drive/; to attempt to forcibly remount, call drive.mount(\"/content/drive/\", force_remount=True).\n"
          ]
        }
      ],
      "source": [
        "from google.colab import drive\n",
        "\n",
        "drive.mount('/content/drive/')"
      ]
    },
    {
      "cell_type": "code",
      "execution_count": 134,
      "metadata": {
        "id": "u8aQ2udaMLsV",
        "colab": {
          "base_uri": "https://localhost:8080/",
          "height": 357
        },
        "outputId": "8f4b0bb6-4be9-4c68-e42c-266a4c4f80d9"
      },
      "outputs": [
        {
          "output_type": "execute_result",
          "data": {
            "text/plain": [
              "   phish_id                                        url  \\\n",
              "0   8018078          https://ipchiro.com/assets/sella/   \n",
              "1   8018074         http://area-clienti.bambinos.it/st   \n",
              "2   8018075  https://ipchiro.com/assets/managehosting/   \n",
              "3   8018073        http://area-clienti.bambinos.it/st/   \n",
              "4   8018069                https://aibudgets.com/meta/   \n",
              "\n",
              "                                    phish_detail_url  \\\n",
              "0  http://www.phishtank.com/phish_detail.php?phis...   \n",
              "1  http://www.phishtank.com/phish_detail.php?phis...   \n",
              "2  http://www.phishtank.com/phish_detail.php?phis...   \n",
              "3  http://www.phishtank.com/phish_detail.php?phis...   \n",
              "4  http://www.phishtank.com/phish_detail.php?phis...   \n",
              "\n",
              "             submission_time verified          verification_time online target  \n",
              "0  2023-01-27T06:57:11+00:00      yes  2023-01-27T07:04:29+00:00    yes  Other  \n",
              "1  2023-01-27T06:53:06+00:00      yes  2023-01-27T07:04:29+00:00    yes  Other  \n",
              "2  2023-01-27T06:53:06+00:00      yes  2023-01-27T07:04:30+00:00    yes  Other  \n",
              "3  2023-01-27T06:53:04+00:00      yes  2023-01-27T07:04:30+00:00    yes  Other  \n",
              "4  2023-01-27T06:29:31+00:00      yes  2023-01-27T06:33:10+00:00    yes  Other  "
            ],
            "text/html": [
              "\n",
              "  <div id=\"df-cd3bc48f-20fd-4c6b-b4c4-9eadb01e2e4b\">\n",
              "    <div class=\"colab-df-container\">\n",
              "      <div>\n",
              "<style scoped>\n",
              "    .dataframe tbody tr th:only-of-type {\n",
              "        vertical-align: middle;\n",
              "    }\n",
              "\n",
              "    .dataframe tbody tr th {\n",
              "        vertical-align: top;\n",
              "    }\n",
              "\n",
              "    .dataframe thead th {\n",
              "        text-align: right;\n",
              "    }\n",
              "</style>\n",
              "<table border=\"1\" class=\"dataframe\">\n",
              "  <thead>\n",
              "    <tr style=\"text-align: right;\">\n",
              "      <th></th>\n",
              "      <th>phish_id</th>\n",
              "      <th>url</th>\n",
              "      <th>phish_detail_url</th>\n",
              "      <th>submission_time</th>\n",
              "      <th>verified</th>\n",
              "      <th>verification_time</th>\n",
              "      <th>online</th>\n",
              "      <th>target</th>\n",
              "    </tr>\n",
              "  </thead>\n",
              "  <tbody>\n",
              "    <tr>\n",
              "      <th>0</th>\n",
              "      <td>8018078</td>\n",
              "      <td>https://ipchiro.com/assets/sella/</td>\n",
              "      <td>http://www.phishtank.com/phish_detail.php?phis...</td>\n",
              "      <td>2023-01-27T06:57:11+00:00</td>\n",
              "      <td>yes</td>\n",
              "      <td>2023-01-27T07:04:29+00:00</td>\n",
              "      <td>yes</td>\n",
              "      <td>Other</td>\n",
              "    </tr>\n",
              "    <tr>\n",
              "      <th>1</th>\n",
              "      <td>8018074</td>\n",
              "      <td>http://area-clienti.bambinos.it/st</td>\n",
              "      <td>http://www.phishtank.com/phish_detail.php?phis...</td>\n",
              "      <td>2023-01-27T06:53:06+00:00</td>\n",
              "      <td>yes</td>\n",
              "      <td>2023-01-27T07:04:29+00:00</td>\n",
              "      <td>yes</td>\n",
              "      <td>Other</td>\n",
              "    </tr>\n",
              "    <tr>\n",
              "      <th>2</th>\n",
              "      <td>8018075</td>\n",
              "      <td>https://ipchiro.com/assets/managehosting/</td>\n",
              "      <td>http://www.phishtank.com/phish_detail.php?phis...</td>\n",
              "      <td>2023-01-27T06:53:06+00:00</td>\n",
              "      <td>yes</td>\n",
              "      <td>2023-01-27T07:04:30+00:00</td>\n",
              "      <td>yes</td>\n",
              "      <td>Other</td>\n",
              "    </tr>\n",
              "    <tr>\n",
              "      <th>3</th>\n",
              "      <td>8018073</td>\n",
              "      <td>http://area-clienti.bambinos.it/st/</td>\n",
              "      <td>http://www.phishtank.com/phish_detail.php?phis...</td>\n",
              "      <td>2023-01-27T06:53:04+00:00</td>\n",
              "      <td>yes</td>\n",
              "      <td>2023-01-27T07:04:30+00:00</td>\n",
              "      <td>yes</td>\n",
              "      <td>Other</td>\n",
              "    </tr>\n",
              "    <tr>\n",
              "      <th>4</th>\n",
              "      <td>8018069</td>\n",
              "      <td>https://aibudgets.com/meta/</td>\n",
              "      <td>http://www.phishtank.com/phish_detail.php?phis...</td>\n",
              "      <td>2023-01-27T06:29:31+00:00</td>\n",
              "      <td>yes</td>\n",
              "      <td>2023-01-27T06:33:10+00:00</td>\n",
              "      <td>yes</td>\n",
              "      <td>Other</td>\n",
              "    </tr>\n",
              "  </tbody>\n",
              "</table>\n",
              "</div>\n",
              "      <button class=\"colab-df-convert\" onclick=\"convertToInteractive('df-cd3bc48f-20fd-4c6b-b4c4-9eadb01e2e4b')\"\n",
              "              title=\"Convert this dataframe to an interactive table.\"\n",
              "              style=\"display:none;\">\n",
              "        \n",
              "  <svg xmlns=\"http://www.w3.org/2000/svg\" height=\"24px\"viewBox=\"0 0 24 24\"\n",
              "       width=\"24px\">\n",
              "    <path d=\"M0 0h24v24H0V0z\" fill=\"none\"/>\n",
              "    <path d=\"M18.56 5.44l.94 2.06.94-2.06 2.06-.94-2.06-.94-.94-2.06-.94 2.06-2.06.94zm-11 1L8.5 8.5l.94-2.06 2.06-.94-2.06-.94L8.5 2.5l-.94 2.06-2.06.94zm10 10l.94 2.06.94-2.06 2.06-.94-2.06-.94-.94-2.06-.94 2.06-2.06.94z\"/><path d=\"M17.41 7.96l-1.37-1.37c-.4-.4-.92-.59-1.43-.59-.52 0-1.04.2-1.43.59L10.3 9.45l-7.72 7.72c-.78.78-.78 2.05 0 2.83L4 21.41c.39.39.9.59 1.41.59.51 0 1.02-.2 1.41-.59l7.78-7.78 2.81-2.81c.8-.78.8-2.07 0-2.86zM5.41 20L4 18.59l7.72-7.72 1.47 1.35L5.41 20z\"/>\n",
              "  </svg>\n",
              "      </button>\n",
              "      \n",
              "  <style>\n",
              "    .colab-df-container {\n",
              "      display:flex;\n",
              "      flex-wrap:wrap;\n",
              "      gap: 12px;\n",
              "    }\n",
              "\n",
              "    .colab-df-convert {\n",
              "      background-color: #E8F0FE;\n",
              "      border: none;\n",
              "      border-radius: 50%;\n",
              "      cursor: pointer;\n",
              "      display: none;\n",
              "      fill: #1967D2;\n",
              "      height: 32px;\n",
              "      padding: 0 0 0 0;\n",
              "      width: 32px;\n",
              "    }\n",
              "\n",
              "    .colab-df-convert:hover {\n",
              "      background-color: #E2EBFA;\n",
              "      box-shadow: 0px 1px 2px rgba(60, 64, 67, 0.3), 0px 1px 3px 1px rgba(60, 64, 67, 0.15);\n",
              "      fill: #174EA6;\n",
              "    }\n",
              "\n",
              "    [theme=dark] .colab-df-convert {\n",
              "      background-color: #3B4455;\n",
              "      fill: #D2E3FC;\n",
              "    }\n",
              "\n",
              "    [theme=dark] .colab-df-convert:hover {\n",
              "      background-color: #434B5C;\n",
              "      box-shadow: 0px 1px 3px 1px rgba(0, 0, 0, 0.15);\n",
              "      filter: drop-shadow(0px 1px 2px rgba(0, 0, 0, 0.3));\n",
              "      fill: #FFFFFF;\n",
              "    }\n",
              "  </style>\n",
              "\n",
              "      <script>\n",
              "        const buttonEl =\n",
              "          document.querySelector('#df-cd3bc48f-20fd-4c6b-b4c4-9eadb01e2e4b button.colab-df-convert');\n",
              "        buttonEl.style.display =\n",
              "          google.colab.kernel.accessAllowed ? 'block' : 'none';\n",
              "\n",
              "        async function convertToInteractive(key) {\n",
              "          const element = document.querySelector('#df-cd3bc48f-20fd-4c6b-b4c4-9eadb01e2e4b');\n",
              "          const dataTable =\n",
              "            await google.colab.kernel.invokeFunction('convertToInteractive',\n",
              "                                                     [key], {});\n",
              "          if (!dataTable) return;\n",
              "\n",
              "          const docLinkHtml = 'Like what you see? Visit the ' +\n",
              "            '<a target=\"_blank\" href=https://colab.research.google.com/notebooks/data_table.ipynb>data table notebook</a>'\n",
              "            + ' to learn more about interactive tables.';\n",
              "          element.innerHTML = '';\n",
              "          dataTable['output_type'] = 'display_data';\n",
              "          await google.colab.output.renderOutput(dataTable, element);\n",
              "          const docLink = document.createElement('div');\n",
              "          docLink.innerHTML = docLinkHtml;\n",
              "          element.appendChild(docLink);\n",
              "        }\n",
              "      </script>\n",
              "    </div>\n",
              "  </div>\n",
              "  "
            ]
          },
          "metadata": {},
          "execution_count": 134
        }
      ],
      "source": [
        "phishing_dataset = pd.read_csv(\"/content/drive/MyDrive/online-valid.csv\")\n",
        "phishing_dataset.head()\n"
      ]
    },
    {
      "cell_type": "code",
      "execution_count": 135,
      "metadata": {
        "id": "qfBNEb8iMwgR",
        "colab": {
          "base_uri": "https://localhost:8080/"
        },
        "outputId": "b2175695-3d74-4858-aff2-bf5fd590c0dd"
      },
      "outputs": [
        {
          "output_type": "execute_result",
          "data": {
            "text/plain": [
              "(14296, 8)"
            ]
          },
          "metadata": {},
          "execution_count": 135
        }
      ],
      "source": [
        "phishing_dataset.shape"
      ]
    },
    {
      "cell_type": "code",
      "execution_count": 136,
      "metadata": {
        "id": "4IOUDxvMNHxs",
        "colab": {
          "base_uri": "https://localhost:8080/",
          "height": 206
        },
        "outputId": "9846659a-16f6-41d2-fa78-1ee14b9ad6eb"
      },
      "outputs": [
        {
          "output_type": "execute_result",
          "data": {
            "text/plain": [
              "                                                URLs\n",
              "0  http://1337x.to/torrent/1110018/Blackhat-2015-...\n",
              "1  http://1337x.to/torrent/1122940/Blackhat-2015-...\n",
              "2  http://1337x.to/torrent/1124395/Fast-and-Furio...\n",
              "3  http://1337x.to/torrent/1145504/Avengers-Age-o...\n",
              "4  http://1337x.to/torrent/1160078/Avengers-age-o..."
            ],
            "text/html": [
              "\n",
              "  <div id=\"df-7d190177-ef4a-4b25-b8b6-7ecce411d126\">\n",
              "    <div class=\"colab-df-container\">\n",
              "      <div>\n",
              "<style scoped>\n",
              "    .dataframe tbody tr th:only-of-type {\n",
              "        vertical-align: middle;\n",
              "    }\n",
              "\n",
              "    .dataframe tbody tr th {\n",
              "        vertical-align: top;\n",
              "    }\n",
              "\n",
              "    .dataframe thead th {\n",
              "        text-align: right;\n",
              "    }\n",
              "</style>\n",
              "<table border=\"1\" class=\"dataframe\">\n",
              "  <thead>\n",
              "    <tr style=\"text-align: right;\">\n",
              "      <th></th>\n",
              "      <th>URLs</th>\n",
              "    </tr>\n",
              "  </thead>\n",
              "  <tbody>\n",
              "    <tr>\n",
              "      <th>0</th>\n",
              "      <td>http://1337x.to/torrent/1110018/Blackhat-2015-...</td>\n",
              "    </tr>\n",
              "    <tr>\n",
              "      <th>1</th>\n",
              "      <td>http://1337x.to/torrent/1122940/Blackhat-2015-...</td>\n",
              "    </tr>\n",
              "    <tr>\n",
              "      <th>2</th>\n",
              "      <td>http://1337x.to/torrent/1124395/Fast-and-Furio...</td>\n",
              "    </tr>\n",
              "    <tr>\n",
              "      <th>3</th>\n",
              "      <td>http://1337x.to/torrent/1145504/Avengers-Age-o...</td>\n",
              "    </tr>\n",
              "    <tr>\n",
              "      <th>4</th>\n",
              "      <td>http://1337x.to/torrent/1160078/Avengers-age-o...</td>\n",
              "    </tr>\n",
              "  </tbody>\n",
              "</table>\n",
              "</div>\n",
              "      <button class=\"colab-df-convert\" onclick=\"convertToInteractive('df-7d190177-ef4a-4b25-b8b6-7ecce411d126')\"\n",
              "              title=\"Convert this dataframe to an interactive table.\"\n",
              "              style=\"display:none;\">\n",
              "        \n",
              "  <svg xmlns=\"http://www.w3.org/2000/svg\" height=\"24px\"viewBox=\"0 0 24 24\"\n",
              "       width=\"24px\">\n",
              "    <path d=\"M0 0h24v24H0V0z\" fill=\"none\"/>\n",
              "    <path d=\"M18.56 5.44l.94 2.06.94-2.06 2.06-.94-2.06-.94-.94-2.06-.94 2.06-2.06.94zm-11 1L8.5 8.5l.94-2.06 2.06-.94-2.06-.94L8.5 2.5l-.94 2.06-2.06.94zm10 10l.94 2.06.94-2.06 2.06-.94-2.06-.94-.94-2.06-.94 2.06-2.06.94z\"/><path d=\"M17.41 7.96l-1.37-1.37c-.4-.4-.92-.59-1.43-.59-.52 0-1.04.2-1.43.59L10.3 9.45l-7.72 7.72c-.78.78-.78 2.05 0 2.83L4 21.41c.39.39.9.59 1.41.59.51 0 1.02-.2 1.41-.59l7.78-7.78 2.81-2.81c.8-.78.8-2.07 0-2.86zM5.41 20L4 18.59l7.72-7.72 1.47 1.35L5.41 20z\"/>\n",
              "  </svg>\n",
              "      </button>\n",
              "      \n",
              "  <style>\n",
              "    .colab-df-container {\n",
              "      display:flex;\n",
              "      flex-wrap:wrap;\n",
              "      gap: 12px;\n",
              "    }\n",
              "\n",
              "    .colab-df-convert {\n",
              "      background-color: #E8F0FE;\n",
              "      border: none;\n",
              "      border-radius: 50%;\n",
              "      cursor: pointer;\n",
              "      display: none;\n",
              "      fill: #1967D2;\n",
              "      height: 32px;\n",
              "      padding: 0 0 0 0;\n",
              "      width: 32px;\n",
              "    }\n",
              "\n",
              "    .colab-df-convert:hover {\n",
              "      background-color: #E2EBFA;\n",
              "      box-shadow: 0px 1px 2px rgba(60, 64, 67, 0.3), 0px 1px 3px 1px rgba(60, 64, 67, 0.15);\n",
              "      fill: #174EA6;\n",
              "    }\n",
              "\n",
              "    [theme=dark] .colab-df-convert {\n",
              "      background-color: #3B4455;\n",
              "      fill: #D2E3FC;\n",
              "    }\n",
              "\n",
              "    [theme=dark] .colab-df-convert:hover {\n",
              "      background-color: #434B5C;\n",
              "      box-shadow: 0px 1px 3px 1px rgba(0, 0, 0, 0.15);\n",
              "      filter: drop-shadow(0px 1px 2px rgba(0, 0, 0, 0.3));\n",
              "      fill: #FFFFFF;\n",
              "    }\n",
              "  </style>\n",
              "\n",
              "      <script>\n",
              "        const buttonEl =\n",
              "          document.querySelector('#df-7d190177-ef4a-4b25-b8b6-7ecce411d126 button.colab-df-convert');\n",
              "        buttonEl.style.display =\n",
              "          google.colab.kernel.accessAllowed ? 'block' : 'none';\n",
              "\n",
              "        async function convertToInteractive(key) {\n",
              "          const element = document.querySelector('#df-7d190177-ef4a-4b25-b8b6-7ecce411d126');\n",
              "          const dataTable =\n",
              "            await google.colab.kernel.invokeFunction('convertToInteractive',\n",
              "                                                     [key], {});\n",
              "          if (!dataTable) return;\n",
              "\n",
              "          const docLinkHtml = 'Like what you see? Visit the ' +\n",
              "            '<a target=\"_blank\" href=https://colab.research.google.com/notebooks/data_table.ipynb>data table notebook</a>'\n",
              "            + ' to learn more about interactive tables.';\n",
              "          element.innerHTML = '';\n",
              "          dataTable['output_type'] = 'display_data';\n",
              "          await google.colab.output.renderOutput(dataTable, element);\n",
              "          const docLink = document.createElement('div');\n",
              "          docLink.innerHTML = docLinkHtml;\n",
              "          element.appendChild(docLink);\n",
              "        }\n",
              "      </script>\n",
              "    </div>\n",
              "  </div>\n",
              "  "
            ]
          },
          "metadata": {},
          "execution_count": 136
        }
      ],
      "source": [
        "legitimate_dataset = pd.read_csv(\"/content/drive/MyDrive/legitimate_urls.csv\")\n",
        "legitimate_dataset.columns = ['URLs']\n",
        "legitimate_dataset.head()"
      ]
    },
    {
      "cell_type": "code",
      "execution_count": 136,
      "metadata": {
        "id": "v514SVj3bpvc"
      },
      "outputs": [],
      "source": []
    },
    {
      "cell_type": "code",
      "execution_count": 137,
      "metadata": {
        "id": "zN50BxiVObLn",
        "colab": {
          "base_uri": "https://localhost:8080/"
        },
        "outputId": "fb918985-5d9a-46cd-803f-9c023db446d4"
      },
      "outputs": [
        {
          "output_type": "execute_result",
          "data": {
            "text/plain": [
              "(35377, 1)"
            ]
          },
          "metadata": {},
          "execution_count": 137
        }
      ],
      "source": [
        "legitimate_dataset.shape"
      ]
    },
    {
      "cell_type": "code",
      "execution_count": 138,
      "metadata": {
        "id": "g-uMWM8-OmJc",
        "colab": {
          "base_uri": "https://localhost:8080/",
          "height": 357
        },
        "outputId": "1acd17fa-6605-4bdd-c914-7286307fcb83"
      },
      "outputs": [
        {
          "output_type": "execute_result",
          "data": {
            "text/plain": [
              "   phish_id                                                url  \\\n",
              "0   7611559  https://docdrive01060authorizesharingfile.onmi...   \n",
              "1   8005754                       http://194.62.166.177/verify   \n",
              "2   8008011  https://www.scaleadomenico.it/63b7e6f378ff19de...   \n",
              "3   7972580                    https://cloudcam.org.in/assets/   \n",
              "4   8012673  https://30westmediagroup.improled.com.ec/#reda...   \n",
              "\n",
              "                                    phish_detail_url  \\\n",
              "0  http://www.phishtank.com/phish_detail.php?phis...   \n",
              "1  http://www.phishtank.com/phish_detail.php?phis...   \n",
              "2  http://www.phishtank.com/phish_detail.php?phis...   \n",
              "3  http://www.phishtank.com/phish_detail.php?phis...   \n",
              "4  http://www.phishtank.com/phish_detail.php?phis...   \n",
              "\n",
              "             submission_time verified          verification_time online  \\\n",
              "0  2022-07-21T21:49:59+00:00      yes  2022-07-21T22:10:42+00:00    yes   \n",
              "1  2023-01-14T01:44:30+00:00      yes  2023-01-14T01:52:06+00:00    yes   \n",
              "2  2023-01-17T10:24:11+00:00      yes  2023-01-17T10:32:20+00:00    yes   \n",
              "3  2022-12-10T06:08:32+00:00      yes  2022-12-12T02:32:53+00:00    yes   \n",
              "4  2023-01-21T16:16:17+00:00      yes  2023-01-21T16:22:04+00:00    yes   \n",
              "\n",
              "     target  \n",
              "0     Other  \n",
              "1  Facebook  \n",
              "2     Other  \n",
              "3     Other  \n",
              "4     Other  "
            ],
            "text/html": [
              "\n",
              "  <div id=\"df-c16603cf-6bb4-4fd7-b16c-243bc04ca02d\">\n",
              "    <div class=\"colab-df-container\">\n",
              "      <div>\n",
              "<style scoped>\n",
              "    .dataframe tbody tr th:only-of-type {\n",
              "        vertical-align: middle;\n",
              "    }\n",
              "\n",
              "    .dataframe tbody tr th {\n",
              "        vertical-align: top;\n",
              "    }\n",
              "\n",
              "    .dataframe thead th {\n",
              "        text-align: right;\n",
              "    }\n",
              "</style>\n",
              "<table border=\"1\" class=\"dataframe\">\n",
              "  <thead>\n",
              "    <tr style=\"text-align: right;\">\n",
              "      <th></th>\n",
              "      <th>phish_id</th>\n",
              "      <th>url</th>\n",
              "      <th>phish_detail_url</th>\n",
              "      <th>submission_time</th>\n",
              "      <th>verified</th>\n",
              "      <th>verification_time</th>\n",
              "      <th>online</th>\n",
              "      <th>target</th>\n",
              "    </tr>\n",
              "  </thead>\n",
              "  <tbody>\n",
              "    <tr>\n",
              "      <th>0</th>\n",
              "      <td>7611559</td>\n",
              "      <td>https://docdrive01060authorizesharingfile.onmi...</td>\n",
              "      <td>http://www.phishtank.com/phish_detail.php?phis...</td>\n",
              "      <td>2022-07-21T21:49:59+00:00</td>\n",
              "      <td>yes</td>\n",
              "      <td>2022-07-21T22:10:42+00:00</td>\n",
              "      <td>yes</td>\n",
              "      <td>Other</td>\n",
              "    </tr>\n",
              "    <tr>\n",
              "      <th>1</th>\n",
              "      <td>8005754</td>\n",
              "      <td>http://194.62.166.177/verify</td>\n",
              "      <td>http://www.phishtank.com/phish_detail.php?phis...</td>\n",
              "      <td>2023-01-14T01:44:30+00:00</td>\n",
              "      <td>yes</td>\n",
              "      <td>2023-01-14T01:52:06+00:00</td>\n",
              "      <td>yes</td>\n",
              "      <td>Facebook</td>\n",
              "    </tr>\n",
              "    <tr>\n",
              "      <th>2</th>\n",
              "      <td>8008011</td>\n",
              "      <td>https://www.scaleadomenico.it/63b7e6f378ff19de...</td>\n",
              "      <td>http://www.phishtank.com/phish_detail.php?phis...</td>\n",
              "      <td>2023-01-17T10:24:11+00:00</td>\n",
              "      <td>yes</td>\n",
              "      <td>2023-01-17T10:32:20+00:00</td>\n",
              "      <td>yes</td>\n",
              "      <td>Other</td>\n",
              "    </tr>\n",
              "    <tr>\n",
              "      <th>3</th>\n",
              "      <td>7972580</td>\n",
              "      <td>https://cloudcam.org.in/assets/</td>\n",
              "      <td>http://www.phishtank.com/phish_detail.php?phis...</td>\n",
              "      <td>2022-12-10T06:08:32+00:00</td>\n",
              "      <td>yes</td>\n",
              "      <td>2022-12-12T02:32:53+00:00</td>\n",
              "      <td>yes</td>\n",
              "      <td>Other</td>\n",
              "    </tr>\n",
              "    <tr>\n",
              "      <th>4</th>\n",
              "      <td>8012673</td>\n",
              "      <td>https://30westmediagroup.improled.com.ec/#reda...</td>\n",
              "      <td>http://www.phishtank.com/phish_detail.php?phis...</td>\n",
              "      <td>2023-01-21T16:16:17+00:00</td>\n",
              "      <td>yes</td>\n",
              "      <td>2023-01-21T16:22:04+00:00</td>\n",
              "      <td>yes</td>\n",
              "      <td>Other</td>\n",
              "    </tr>\n",
              "  </tbody>\n",
              "</table>\n",
              "</div>\n",
              "      <button class=\"colab-df-convert\" onclick=\"convertToInteractive('df-c16603cf-6bb4-4fd7-b16c-243bc04ca02d')\"\n",
              "              title=\"Convert this dataframe to an interactive table.\"\n",
              "              style=\"display:none;\">\n",
              "        \n",
              "  <svg xmlns=\"http://www.w3.org/2000/svg\" height=\"24px\"viewBox=\"0 0 24 24\"\n",
              "       width=\"24px\">\n",
              "    <path d=\"M0 0h24v24H0V0z\" fill=\"none\"/>\n",
              "    <path d=\"M18.56 5.44l.94 2.06.94-2.06 2.06-.94-2.06-.94-.94-2.06-.94 2.06-2.06.94zm-11 1L8.5 8.5l.94-2.06 2.06-.94-2.06-.94L8.5 2.5l-.94 2.06-2.06.94zm10 10l.94 2.06.94-2.06 2.06-.94-2.06-.94-.94-2.06-.94 2.06-2.06.94z\"/><path d=\"M17.41 7.96l-1.37-1.37c-.4-.4-.92-.59-1.43-.59-.52 0-1.04.2-1.43.59L10.3 9.45l-7.72 7.72c-.78.78-.78 2.05 0 2.83L4 21.41c.39.39.9.59 1.41.59.51 0 1.02-.2 1.41-.59l7.78-7.78 2.81-2.81c.8-.78.8-2.07 0-2.86zM5.41 20L4 18.59l7.72-7.72 1.47 1.35L5.41 20z\"/>\n",
              "  </svg>\n",
              "      </button>\n",
              "      \n",
              "  <style>\n",
              "    .colab-df-container {\n",
              "      display:flex;\n",
              "      flex-wrap:wrap;\n",
              "      gap: 12px;\n",
              "    }\n",
              "\n",
              "    .colab-df-convert {\n",
              "      background-color: #E8F0FE;\n",
              "      border: none;\n",
              "      border-radius: 50%;\n",
              "      cursor: pointer;\n",
              "      display: none;\n",
              "      fill: #1967D2;\n",
              "      height: 32px;\n",
              "      padding: 0 0 0 0;\n",
              "      width: 32px;\n",
              "    }\n",
              "\n",
              "    .colab-df-convert:hover {\n",
              "      background-color: #E2EBFA;\n",
              "      box-shadow: 0px 1px 2px rgba(60, 64, 67, 0.3), 0px 1px 3px 1px rgba(60, 64, 67, 0.15);\n",
              "      fill: #174EA6;\n",
              "    }\n",
              "\n",
              "    [theme=dark] .colab-df-convert {\n",
              "      background-color: #3B4455;\n",
              "      fill: #D2E3FC;\n",
              "    }\n",
              "\n",
              "    [theme=dark] .colab-df-convert:hover {\n",
              "      background-color: #434B5C;\n",
              "      box-shadow: 0px 1px 3px 1px rgba(0, 0, 0, 0.15);\n",
              "      filter: drop-shadow(0px 1px 2px rgba(0, 0, 0, 0.3));\n",
              "      fill: #FFFFFF;\n",
              "    }\n",
              "  </style>\n",
              "\n",
              "      <script>\n",
              "        const buttonEl =\n",
              "          document.querySelector('#df-c16603cf-6bb4-4fd7-b16c-243bc04ca02d button.colab-df-convert');\n",
              "        buttonEl.style.display =\n",
              "          google.colab.kernel.accessAllowed ? 'block' : 'none';\n",
              "\n",
              "        async function convertToInteractive(key) {\n",
              "          const element = document.querySelector('#df-c16603cf-6bb4-4fd7-b16c-243bc04ca02d');\n",
              "          const dataTable =\n",
              "            await google.colab.kernel.invokeFunction('convertToInteractive',\n",
              "                                                     [key], {});\n",
              "          if (!dataTable) return;\n",
              "\n",
              "          const docLinkHtml = 'Like what you see? Visit the ' +\n",
              "            '<a target=\"_blank\" href=https://colab.research.google.com/notebooks/data_table.ipynb>data table notebook</a>'\n",
              "            + ' to learn more about interactive tables.';\n",
              "          element.innerHTML = '';\n",
              "          dataTable['output_type'] = 'display_data';\n",
              "          await google.colab.output.renderOutput(dataTable, element);\n",
              "          const docLink = document.createElement('div');\n",
              "          docLink.innerHTML = docLinkHtml;\n",
              "          element.appendChild(docLink);\n",
              "        }\n",
              "      </script>\n",
              "    </div>\n",
              "  </div>\n",
              "  "
            ]
          },
          "metadata": {},
          "execution_count": 138
        }
      ],
      "source": [
        "phishing_dataset = phishing_dataset.sample(n = 10000, random_state = 12).copy()\n",
        "phishing_dataset = phishing_dataset.reset_index(drop=True)\n",
        "phishing_dataset.head()"
      ]
    },
    {
      "cell_type": "code",
      "execution_count": 139,
      "metadata": {
        "id": "2zj_b4ohO56Y",
        "colab": {
          "base_uri": "https://localhost:8080/",
          "height": 206
        },
        "outputId": "f9ea9ee5-7be4-471a-ee3f-8b07c833cfd8"
      },
      "outputs": [
        {
          "output_type": "execute_result",
          "data": {
            "text/plain": [
              "                                                URLs\n",
              "0  http://graphicriver.net/search?date=this-month...\n",
              "1  http://ecnavi.jp/redirect/?url=http://www.cros...\n",
              "2  https://hubpages.com/signin?explain=follow+Hub...\n",
              "3  http://extratorrent.cc/torrent/4190536/AOMEI+B...\n",
              "4  http://icicibank.com/Personal-Banking/offers/o..."
            ],
            "text/html": [
              "\n",
              "  <div id=\"df-677e17b2-480c-48bd-9af0-07486f651c1c\">\n",
              "    <div class=\"colab-df-container\">\n",
              "      <div>\n",
              "<style scoped>\n",
              "    .dataframe tbody tr th:only-of-type {\n",
              "        vertical-align: middle;\n",
              "    }\n",
              "\n",
              "    .dataframe tbody tr th {\n",
              "        vertical-align: top;\n",
              "    }\n",
              "\n",
              "    .dataframe thead th {\n",
              "        text-align: right;\n",
              "    }\n",
              "</style>\n",
              "<table border=\"1\" class=\"dataframe\">\n",
              "  <thead>\n",
              "    <tr style=\"text-align: right;\">\n",
              "      <th></th>\n",
              "      <th>URLs</th>\n",
              "    </tr>\n",
              "  </thead>\n",
              "  <tbody>\n",
              "    <tr>\n",
              "      <th>0</th>\n",
              "      <td>http://graphicriver.net/search?date=this-month...</td>\n",
              "    </tr>\n",
              "    <tr>\n",
              "      <th>1</th>\n",
              "      <td>http://ecnavi.jp/redirect/?url=http://www.cros...</td>\n",
              "    </tr>\n",
              "    <tr>\n",
              "      <th>2</th>\n",
              "      <td>https://hubpages.com/signin?explain=follow+Hub...</td>\n",
              "    </tr>\n",
              "    <tr>\n",
              "      <th>3</th>\n",
              "      <td>http://extratorrent.cc/torrent/4190536/AOMEI+B...</td>\n",
              "    </tr>\n",
              "    <tr>\n",
              "      <th>4</th>\n",
              "      <td>http://icicibank.com/Personal-Banking/offers/o...</td>\n",
              "    </tr>\n",
              "  </tbody>\n",
              "</table>\n",
              "</div>\n",
              "      <button class=\"colab-df-convert\" onclick=\"convertToInteractive('df-677e17b2-480c-48bd-9af0-07486f651c1c')\"\n",
              "              title=\"Convert this dataframe to an interactive table.\"\n",
              "              style=\"display:none;\">\n",
              "        \n",
              "  <svg xmlns=\"http://www.w3.org/2000/svg\" height=\"24px\"viewBox=\"0 0 24 24\"\n",
              "       width=\"24px\">\n",
              "    <path d=\"M0 0h24v24H0V0z\" fill=\"none\"/>\n",
              "    <path d=\"M18.56 5.44l.94 2.06.94-2.06 2.06-.94-2.06-.94-.94-2.06-.94 2.06-2.06.94zm-11 1L8.5 8.5l.94-2.06 2.06-.94-2.06-.94L8.5 2.5l-.94 2.06-2.06.94zm10 10l.94 2.06.94-2.06 2.06-.94-2.06-.94-.94-2.06-.94 2.06-2.06.94z\"/><path d=\"M17.41 7.96l-1.37-1.37c-.4-.4-.92-.59-1.43-.59-.52 0-1.04.2-1.43.59L10.3 9.45l-7.72 7.72c-.78.78-.78 2.05 0 2.83L4 21.41c.39.39.9.59 1.41.59.51 0 1.02-.2 1.41-.59l7.78-7.78 2.81-2.81c.8-.78.8-2.07 0-2.86zM5.41 20L4 18.59l7.72-7.72 1.47 1.35L5.41 20z\"/>\n",
              "  </svg>\n",
              "      </button>\n",
              "      \n",
              "  <style>\n",
              "    .colab-df-container {\n",
              "      display:flex;\n",
              "      flex-wrap:wrap;\n",
              "      gap: 12px;\n",
              "    }\n",
              "\n",
              "    .colab-df-convert {\n",
              "      background-color: #E8F0FE;\n",
              "      border: none;\n",
              "      border-radius: 50%;\n",
              "      cursor: pointer;\n",
              "      display: none;\n",
              "      fill: #1967D2;\n",
              "      height: 32px;\n",
              "      padding: 0 0 0 0;\n",
              "      width: 32px;\n",
              "    }\n",
              "\n",
              "    .colab-df-convert:hover {\n",
              "      background-color: #E2EBFA;\n",
              "      box-shadow: 0px 1px 2px rgba(60, 64, 67, 0.3), 0px 1px 3px 1px rgba(60, 64, 67, 0.15);\n",
              "      fill: #174EA6;\n",
              "    }\n",
              "\n",
              "    [theme=dark] .colab-df-convert {\n",
              "      background-color: #3B4455;\n",
              "      fill: #D2E3FC;\n",
              "    }\n",
              "\n",
              "    [theme=dark] .colab-df-convert:hover {\n",
              "      background-color: #434B5C;\n",
              "      box-shadow: 0px 1px 3px 1px rgba(0, 0, 0, 0.15);\n",
              "      filter: drop-shadow(0px 1px 2px rgba(0, 0, 0, 0.3));\n",
              "      fill: #FFFFFF;\n",
              "    }\n",
              "  </style>\n",
              "\n",
              "      <script>\n",
              "        const buttonEl =\n",
              "          document.querySelector('#df-677e17b2-480c-48bd-9af0-07486f651c1c button.colab-df-convert');\n",
              "        buttonEl.style.display =\n",
              "          google.colab.kernel.accessAllowed ? 'block' : 'none';\n",
              "\n",
              "        async function convertToInteractive(key) {\n",
              "          const element = document.querySelector('#df-677e17b2-480c-48bd-9af0-07486f651c1c');\n",
              "          const dataTable =\n",
              "            await google.colab.kernel.invokeFunction('convertToInteractive',\n",
              "                                                     [key], {});\n",
              "          if (!dataTable) return;\n",
              "\n",
              "          const docLinkHtml = 'Like what you see? Visit the ' +\n",
              "            '<a target=\"_blank\" href=https://colab.research.google.com/notebooks/data_table.ipynb>data table notebook</a>'\n",
              "            + ' to learn more about interactive tables.';\n",
              "          element.innerHTML = '';\n",
              "          dataTable['output_type'] = 'display_data';\n",
              "          await google.colab.output.renderOutput(dataTable, element);\n",
              "          const docLink = document.createElement('div');\n",
              "          docLink.innerHTML = docLinkHtml;\n",
              "          element.appendChild(docLink);\n",
              "        }\n",
              "      </script>\n",
              "    </div>\n",
              "  </div>\n",
              "  "
            ]
          },
          "metadata": {},
          "execution_count": 139
        }
      ],
      "source": [
        "legitimate_dataset = legitimate_dataset.sample(n = 10000, random_state = 12).copy()\n",
        "legitimate_dataset = legitimate_dataset.reset_index(drop=True)\n",
        "legitimate_dataset.head()"
      ]
    },
    {
      "cell_type": "code",
      "execution_count": 140,
      "metadata": {
        "id": "_6x-NPuwPKE5",
        "colab": {
          "base_uri": "https://localhost:8080/"
        },
        "outputId": "2e68ad1c-11d3-4e22-ab38-4aa4e98dedf8"
      },
      "outputs": [
        {
          "output_type": "execute_result",
          "data": {
            "text/plain": [
              "(10000, 1)"
            ]
          },
          "metadata": {},
          "execution_count": 140
        }
      ],
      "source": [
        "legitimate_dataset.shape"
      ]
    },
    {
      "cell_type": "markdown",
      "metadata": {
        "id": "e9qbdX1kRWnR"
      },
      "source": [
        "**Feature extraction**"
      ]
    },
    {
      "cell_type": "markdown",
      "metadata": {
        "id": "v0p3HmneSqRi"
      },
      "source": [
        "**domain extraction**"
      ]
    },
    {
      "cell_type": "code",
      "execution_count": 141,
      "metadata": {
        "id": "Jb0xGo4cRPx5"
      },
      "outputs": [],
      "source": [
        "def extract_domain(url):  \n",
        "  extracted_domains = urlparse(url).netloc\n",
        "  if re.match(r\"^www.\",extracted_domains):\n",
        "    extracted_domains = extracted_domains.replace(\"www.\",\"\")\n",
        "    return extracted_domains\n"
      ]
    },
    {
      "cell_type": "markdown",
      "metadata": {
        "id": "07SElSEMSvku"
      },
      "source": [
        "**IP Address**"
      ]
    },
    {
      "cell_type": "code",
      "execution_count": 142,
      "metadata": {
        "id": "Xpj0N5CwSMFk"
      },
      "outputs": [],
      "source": [
        "def url_IP(url):\n",
        "  try:\n",
        "    ipaddress.ip_address(url)\n",
        "    ip = 1\n",
        "  except:\n",
        "    ip = 0\n",
        "  return ip"
      ]
    },
    {
      "cell_type": "markdown",
      "metadata": {
        "id": "J9rZ_1lWS6x1"
      },
      "source": [
        "**URL length**"
      ]
    },
    {
      "cell_type": "code",
      "execution_count": 143,
      "metadata": {
        "id": "LSuMY9wwS9p_"
      },
      "outputs": [],
      "source": [
        "def url_length(url):\n",
        "  if len(url) < 54:\n",
        "    length = 0            \n",
        "  else:\n",
        "    length = 1            \n",
        "  return length"
      ]
    },
    {
      "cell_type": "code",
      "source": [
        "def haveAtSign(url):\n",
        "  if \"@\" in url:\n",
        "    at = 1    \n",
        "  else:\n",
        "    at = 0    \n",
        "  return at"
      ],
      "metadata": {
        "id": "kfFpPasEh01J"
      },
      "execution_count": 144,
      "outputs": []
    },
    {
      "cell_type": "code",
      "source": [
        "def getDepth(url):\n",
        "  s = urlparse(url).path.split('/')\n",
        "  depth = 0\n",
        "  for j in range(len(s)):\n",
        "    if len(s[j]) != 0:\n",
        "      depth = depth+1\n",
        "  return depth"
      ],
      "metadata": {
        "id": "O8qeExB62aPb"
      },
      "execution_count": 145,
      "outputs": []
    },
    {
      "cell_type": "markdown",
      "metadata": {
        "id": "fUZtitg7TGjt"
      },
      "source": [
        "**checking redirection in URL**"
      ]
    },
    {
      "cell_type": "code",
      "execution_count": 146,
      "metadata": {
        "id": "Q6CrxxhRTFev"
      },
      "outputs": [],
      "source": [
        "def url_redirection(url):\n",
        "  pos = url.rfind('//')\n",
        "  if pos > 6:\n",
        "    if pos > 7:\n",
        "      return 1\n",
        "    else:\n",
        "      return 0\n",
        "  else:\n",
        "    return 0"
      ]
    },
    {
      "cell_type": "markdown",
      "metadata": {
        "id": "Jt9J_H84TSM4"
      },
      "source": [
        "https check"
      ]
    },
    {
      "cell_type": "code",
      "execution_count": 147,
      "metadata": {
        "id": "S_l1AtEMTU8R"
      },
      "outputs": [],
      "source": [
        "def https_check(url):\n",
        "  domain = urlparse(url).netloc\n",
        "  if 'https' in domain:\n",
        "    return 1\n",
        "  else:\n",
        "    return 0"
      ]
    },
    {
      "cell_type": "markdown",
      "metadata": {
        "id": "u9HnxjsqTggE"
      },
      "source": [
        "URL actual length"
      ]
    },
    {
      "cell_type": "code",
      "execution_count": 148,
      "metadata": {
        "id": "OtkWH3yDTi74"
      },
      "outputs": [],
      "source": [
        "websites_to_shorten_url_length = r\"bit\\.ly|goo\\.gl|shorte\\.st|go2l\\.ink|x\\.co|ow\\.ly|t\\.co|tinyurl|tr\\.im|is\\.gd|cli\\.gs|\" \\\n",
        "                      r\"yfrog\\.com|migre\\.me|ff\\.im|tiny\\.cc|url4\\.eu|twit\\.ac|su\\.pr|twurl\\.nl|snipurl\\.com|\" \\\n",
        "                      r\"short\\.to|BudURL\\.com|ping\\.fm|post\\.ly|Just\\.as|bkite\\.com|snipr\\.com|fic\\.kr|loopt\\.us|\" \\\n",
        "                      r\"doiop\\.com|short\\.ie|kl\\.am|wp\\.me|rubyurl\\.com|om\\.ly|to\\.ly|bit\\.do|t\\.co|lnkd\\.in|db\\.tt|\" \\\n",
        "                      r\"qr\\.ae|adf\\.ly|goo\\.gl|bitly\\.com|cur\\.lv|tinyurl\\.com|ow\\.ly|bit\\.ly|ity\\.im|q\\.gs|is\\.gd|\" \\\n",
        "                      r\"po\\.st|bc\\.vc|twitthis\\.com|u\\.to|j\\.mp|buzurl\\.com|cutt\\.us|u\\.bb|yourls\\.org|x\\.co|\" \\\n",
        "                      r\"prettylinkpro\\.com|scrnch\\.me|filoops\\.info|vzturl\\.com|qr\\.net|1url\\.com|tweez\\.me|v\\.gd|\" \\\n",
        "                      r\"tr\\.im|link\\.zip\\.net\""
      ]
    },
    {
      "cell_type": "code",
      "execution_count": 149,
      "metadata": {
        "id": "cWqGiQpLTqe-"
      },
      "outputs": [],
      "source": [
        "def short_urls(url):\n",
        "    match=re.search(websites_to_shorten_url_length,url)\n",
        "    if match:\n",
        "        return 1\n",
        "    else:\n",
        "        return 0"
      ]
    },
    {
      "cell_type": "markdown",
      "metadata": {
        "id": "lGnlXaMuW4uw"
      },
      "source": [
        "checking prefix "
      ]
    },
    {
      "cell_type": "code",
      "execution_count": 150,
      "metadata": {
        "id": "5RAG0jNOW4Dt"
      },
      "outputs": [],
      "source": [
        "def checking_prefix(url):\n",
        "    if '-' in urlparse(url).netloc:\n",
        "        return 1            # phishing\n",
        "    else:\n",
        "        return 0            # legitimate"
      ]
    },
    {
      "cell_type": "code",
      "source": [
        "import requests"
      ],
      "metadata": {
        "id": "t144EH_Nkaz2"
      },
      "execution_count": 151,
      "outputs": []
    },
    {
      "cell_type": "code",
      "execution_count": 152,
      "metadata": {
        "id": "EHFybeLsYmU5"
      },
      "outputs": [],
      "source": [
        "def get_features(url,label):\n",
        "\n",
        "  extracted_features = []\n",
        "  extracted_features.append(extract_domain(url))\n",
        "  extracted_features.append(url_IP(url))\n",
        "  extracted_features.append(url_length(url))\n",
        "  extracted_features.append(url_redirection(url))\n",
        "  extracted_features.append(https_check(url))\n",
        "  extracted_features.append(short_urls(url))\n",
        "  extracted_features.append(checking_prefix(url))\n",
        "  extracted_features.append(getDepth(url))\n",
        "  extracted_features.append(label)\n",
        "  extracted_features.append(haveAtSign(url))\n",
        "  \n",
        "  \n",
        "  \n",
        " \n",
        "  \n",
        " \n",
        " \n",
        "  \n",
        "  return extracted_features"
      ]
    },
    {
      "cell_type": "markdown",
      "metadata": {
        "id": "K249aejja70q"
      },
      "source": [
        "**legitimate websites features**"
      ]
    },
    {
      "cell_type": "code",
      "execution_count": 153,
      "metadata": {
        "id": "jQjsoJkObBxl"
      },
      "outputs": [],
      "source": [
        "legitimate_features = []\n",
        "label = 0\n",
        "\n",
        "for i in range(0, 10000):\n",
        "  url = legitimate_dataset['URLs'][i]\n",
        "  legitimate_features.append(get_features(url,label))"
      ]
    },
    {
      "cell_type": "code",
      "execution_count": 154,
      "metadata": {
        "colab": {
          "base_uri": "https://localhost:8080/",
          "height": 206
        },
        "id": "D_0n6zHGOJl8",
        "outputId": "89bf458b-4a78-4ad4-e6aa-2e37963f6046"
      },
      "outputs": [
        {
          "output_type": "execute_result",
          "data": {
            "text/plain": [
              "  Domain  Have_IP  URL_Length  Redirection  https_Domain  TinyURL  \\\n",
              "0   None        0           1            0             0        0   \n",
              "1   None        0           1            1             0        0   \n",
              "2   None        0           1            0             0        0   \n",
              "3   None        0           1            0             0        0   \n",
              "4   None        0           1            0             0        0   \n",
              "\n",
              "   Prefix/Suffix  url depth  Label  at sign  \n",
              "0              0          1      0        0  \n",
              "1              0          1      0        0  \n",
              "2              0          1      0        0  \n",
              "3              0          3      0        0  \n",
              "4              0          3      0        0  "
            ],
            "text/html": [
              "\n",
              "  <div id=\"df-25c3c865-a678-493d-92c4-735618e6444a\">\n",
              "    <div class=\"colab-df-container\">\n",
              "      <div>\n",
              "<style scoped>\n",
              "    .dataframe tbody tr th:only-of-type {\n",
              "        vertical-align: middle;\n",
              "    }\n",
              "\n",
              "    .dataframe tbody tr th {\n",
              "        vertical-align: top;\n",
              "    }\n",
              "\n",
              "    .dataframe thead th {\n",
              "        text-align: right;\n",
              "    }\n",
              "</style>\n",
              "<table border=\"1\" class=\"dataframe\">\n",
              "  <thead>\n",
              "    <tr style=\"text-align: right;\">\n",
              "      <th></th>\n",
              "      <th>Domain</th>\n",
              "      <th>Have_IP</th>\n",
              "      <th>URL_Length</th>\n",
              "      <th>Redirection</th>\n",
              "      <th>https_Domain</th>\n",
              "      <th>TinyURL</th>\n",
              "      <th>Prefix/Suffix</th>\n",
              "      <th>url depth</th>\n",
              "      <th>Label</th>\n",
              "      <th>at sign</th>\n",
              "    </tr>\n",
              "  </thead>\n",
              "  <tbody>\n",
              "    <tr>\n",
              "      <th>0</th>\n",
              "      <td>None</td>\n",
              "      <td>0</td>\n",
              "      <td>1</td>\n",
              "      <td>0</td>\n",
              "      <td>0</td>\n",
              "      <td>0</td>\n",
              "      <td>0</td>\n",
              "      <td>1</td>\n",
              "      <td>0</td>\n",
              "      <td>0</td>\n",
              "    </tr>\n",
              "    <tr>\n",
              "      <th>1</th>\n",
              "      <td>None</td>\n",
              "      <td>0</td>\n",
              "      <td>1</td>\n",
              "      <td>1</td>\n",
              "      <td>0</td>\n",
              "      <td>0</td>\n",
              "      <td>0</td>\n",
              "      <td>1</td>\n",
              "      <td>0</td>\n",
              "      <td>0</td>\n",
              "    </tr>\n",
              "    <tr>\n",
              "      <th>2</th>\n",
              "      <td>None</td>\n",
              "      <td>0</td>\n",
              "      <td>1</td>\n",
              "      <td>0</td>\n",
              "      <td>0</td>\n",
              "      <td>0</td>\n",
              "      <td>0</td>\n",
              "      <td>1</td>\n",
              "      <td>0</td>\n",
              "      <td>0</td>\n",
              "    </tr>\n",
              "    <tr>\n",
              "      <th>3</th>\n",
              "      <td>None</td>\n",
              "      <td>0</td>\n",
              "      <td>1</td>\n",
              "      <td>0</td>\n",
              "      <td>0</td>\n",
              "      <td>0</td>\n",
              "      <td>0</td>\n",
              "      <td>3</td>\n",
              "      <td>0</td>\n",
              "      <td>0</td>\n",
              "    </tr>\n",
              "    <tr>\n",
              "      <th>4</th>\n",
              "      <td>None</td>\n",
              "      <td>0</td>\n",
              "      <td>1</td>\n",
              "      <td>0</td>\n",
              "      <td>0</td>\n",
              "      <td>0</td>\n",
              "      <td>0</td>\n",
              "      <td>3</td>\n",
              "      <td>0</td>\n",
              "      <td>0</td>\n",
              "    </tr>\n",
              "  </tbody>\n",
              "</table>\n",
              "</div>\n",
              "      <button class=\"colab-df-convert\" onclick=\"convertToInteractive('df-25c3c865-a678-493d-92c4-735618e6444a')\"\n",
              "              title=\"Convert this dataframe to an interactive table.\"\n",
              "              style=\"display:none;\">\n",
              "        \n",
              "  <svg xmlns=\"http://www.w3.org/2000/svg\" height=\"24px\"viewBox=\"0 0 24 24\"\n",
              "       width=\"24px\">\n",
              "    <path d=\"M0 0h24v24H0V0z\" fill=\"none\"/>\n",
              "    <path d=\"M18.56 5.44l.94 2.06.94-2.06 2.06-.94-2.06-.94-.94-2.06-.94 2.06-2.06.94zm-11 1L8.5 8.5l.94-2.06 2.06-.94-2.06-.94L8.5 2.5l-.94 2.06-2.06.94zm10 10l.94 2.06.94-2.06 2.06-.94-2.06-.94-.94-2.06-.94 2.06-2.06.94z\"/><path d=\"M17.41 7.96l-1.37-1.37c-.4-.4-.92-.59-1.43-.59-.52 0-1.04.2-1.43.59L10.3 9.45l-7.72 7.72c-.78.78-.78 2.05 0 2.83L4 21.41c.39.39.9.59 1.41.59.51 0 1.02-.2 1.41-.59l7.78-7.78 2.81-2.81c.8-.78.8-2.07 0-2.86zM5.41 20L4 18.59l7.72-7.72 1.47 1.35L5.41 20z\"/>\n",
              "  </svg>\n",
              "      </button>\n",
              "      \n",
              "  <style>\n",
              "    .colab-df-container {\n",
              "      display:flex;\n",
              "      flex-wrap:wrap;\n",
              "      gap: 12px;\n",
              "    }\n",
              "\n",
              "    .colab-df-convert {\n",
              "      background-color: #E8F0FE;\n",
              "      border: none;\n",
              "      border-radius: 50%;\n",
              "      cursor: pointer;\n",
              "      display: none;\n",
              "      fill: #1967D2;\n",
              "      height: 32px;\n",
              "      padding: 0 0 0 0;\n",
              "      width: 32px;\n",
              "    }\n",
              "\n",
              "    .colab-df-convert:hover {\n",
              "      background-color: #E2EBFA;\n",
              "      box-shadow: 0px 1px 2px rgba(60, 64, 67, 0.3), 0px 1px 3px 1px rgba(60, 64, 67, 0.15);\n",
              "      fill: #174EA6;\n",
              "    }\n",
              "\n",
              "    [theme=dark] .colab-df-convert {\n",
              "      background-color: #3B4455;\n",
              "      fill: #D2E3FC;\n",
              "    }\n",
              "\n",
              "    [theme=dark] .colab-df-convert:hover {\n",
              "      background-color: #434B5C;\n",
              "      box-shadow: 0px 1px 3px 1px rgba(0, 0, 0, 0.15);\n",
              "      filter: drop-shadow(0px 1px 2px rgba(0, 0, 0, 0.3));\n",
              "      fill: #FFFFFF;\n",
              "    }\n",
              "  </style>\n",
              "\n",
              "      <script>\n",
              "        const buttonEl =\n",
              "          document.querySelector('#df-25c3c865-a678-493d-92c4-735618e6444a button.colab-df-convert');\n",
              "        buttonEl.style.display =\n",
              "          google.colab.kernel.accessAllowed ? 'block' : 'none';\n",
              "\n",
              "        async function convertToInteractive(key) {\n",
              "          const element = document.querySelector('#df-25c3c865-a678-493d-92c4-735618e6444a');\n",
              "          const dataTable =\n",
              "            await google.colab.kernel.invokeFunction('convertToInteractive',\n",
              "                                                     [key], {});\n",
              "          if (!dataTable) return;\n",
              "\n",
              "          const docLinkHtml = 'Like what you see? Visit the ' +\n",
              "            '<a target=\"_blank\" href=https://colab.research.google.com/notebooks/data_table.ipynb>data table notebook</a>'\n",
              "            + ' to learn more about interactive tables.';\n",
              "          element.innerHTML = '';\n",
              "          dataTable['output_type'] = 'display_data';\n",
              "          await google.colab.output.renderOutput(dataTable, element);\n",
              "          const docLink = document.createElement('div');\n",
              "          docLink.innerHTML = docLinkHtml;\n",
              "          element.appendChild(docLink);\n",
              "        }\n",
              "      </script>\n",
              "    </div>\n",
              "  </div>\n",
              "  "
            ]
          },
          "metadata": {},
          "execution_count": 154
        }
      ],
      "source": [
        "feature_names = ['Domain', 'Have_IP', 'URL_Length','Redirection', \n",
        "                      'https_Domain', 'TinyURL', 'Prefix/Suffix','url depth', 'Label',\"at sign\"]\n",
        "\n",
        "legitimate_features_extracted = pd.DataFrame(legitimate_features, columns= feature_names)\n",
        "legitimate_features_extracted.head()"
      ]
    },
    {
      "cell_type": "code",
      "execution_count": 155,
      "metadata": {
        "id": "E7V97LZqOJmA"
      },
      "outputs": [],
      "source": [
        "legitimate_features_extracted.to_csv('legitimate_features_extracted.csv', index= False)"
      ]
    },
    {
      "cell_type": "code",
      "execution_count": 156,
      "metadata": {
        "id": "pjbC3xh_gmqX"
      },
      "outputs": [],
      "source": [
        "phishing_features = []\n",
        "label = 1\n",
        "for i in range(0, 10000):\n",
        "  url = phishing_dataset['url'][i]\n",
        "  phishing_features.append(get_features(url,label))"
      ]
    },
    {
      "cell_type": "code",
      "execution_count": 157,
      "metadata": {
        "colab": {
          "base_uri": "https://localhost:8080/",
          "height": 206
        },
        "id": "hLwlo8r1OJmk",
        "outputId": "66b7920f-e9b6-4ed2-dc7a-ecbfb84ef7f9"
      },
      "outputs": [
        {
          "output_type": "execute_result",
          "data": {
            "text/plain": [
              "              Domain  Have_IP  URL_Length  Redirection  https_Domain  TinyURL  \\\n",
              "0               None        0           1            0             0        0   \n",
              "1               None        0           0            0             0        0   \n",
              "2  scaleadomenico.it        0           1            0             0        0   \n",
              "3               None        0           0            0             0        0   \n",
              "4               None        0           1            0             0        0   \n",
              "\n",
              "   Prefix/Suffix  url depth  Label  at sign  \n",
              "0              0          0      1        0  \n",
              "1              0          1      1        0  \n",
              "2              0          2      1        0  \n",
              "3              0          1      1        0  \n",
              "4              0          0      1        1  "
            ],
            "text/html": [
              "\n",
              "  <div id=\"df-00b167ec-11a0-465c-941b-10da184fc520\">\n",
              "    <div class=\"colab-df-container\">\n",
              "      <div>\n",
              "<style scoped>\n",
              "    .dataframe tbody tr th:only-of-type {\n",
              "        vertical-align: middle;\n",
              "    }\n",
              "\n",
              "    .dataframe tbody tr th {\n",
              "        vertical-align: top;\n",
              "    }\n",
              "\n",
              "    .dataframe thead th {\n",
              "        text-align: right;\n",
              "    }\n",
              "</style>\n",
              "<table border=\"1\" class=\"dataframe\">\n",
              "  <thead>\n",
              "    <tr style=\"text-align: right;\">\n",
              "      <th></th>\n",
              "      <th>Domain</th>\n",
              "      <th>Have_IP</th>\n",
              "      <th>URL_Length</th>\n",
              "      <th>Redirection</th>\n",
              "      <th>https_Domain</th>\n",
              "      <th>TinyURL</th>\n",
              "      <th>Prefix/Suffix</th>\n",
              "      <th>url depth</th>\n",
              "      <th>Label</th>\n",
              "      <th>at sign</th>\n",
              "    </tr>\n",
              "  </thead>\n",
              "  <tbody>\n",
              "    <tr>\n",
              "      <th>0</th>\n",
              "      <td>None</td>\n",
              "      <td>0</td>\n",
              "      <td>1</td>\n",
              "      <td>0</td>\n",
              "      <td>0</td>\n",
              "      <td>0</td>\n",
              "      <td>0</td>\n",
              "      <td>0</td>\n",
              "      <td>1</td>\n",
              "      <td>0</td>\n",
              "    </tr>\n",
              "    <tr>\n",
              "      <th>1</th>\n",
              "      <td>None</td>\n",
              "      <td>0</td>\n",
              "      <td>0</td>\n",
              "      <td>0</td>\n",
              "      <td>0</td>\n",
              "      <td>0</td>\n",
              "      <td>0</td>\n",
              "      <td>1</td>\n",
              "      <td>1</td>\n",
              "      <td>0</td>\n",
              "    </tr>\n",
              "    <tr>\n",
              "      <th>2</th>\n",
              "      <td>scaleadomenico.it</td>\n",
              "      <td>0</td>\n",
              "      <td>1</td>\n",
              "      <td>0</td>\n",
              "      <td>0</td>\n",
              "      <td>0</td>\n",
              "      <td>0</td>\n",
              "      <td>2</td>\n",
              "      <td>1</td>\n",
              "      <td>0</td>\n",
              "    </tr>\n",
              "    <tr>\n",
              "      <th>3</th>\n",
              "      <td>None</td>\n",
              "      <td>0</td>\n",
              "      <td>0</td>\n",
              "      <td>0</td>\n",
              "      <td>0</td>\n",
              "      <td>0</td>\n",
              "      <td>0</td>\n",
              "      <td>1</td>\n",
              "      <td>1</td>\n",
              "      <td>0</td>\n",
              "    </tr>\n",
              "    <tr>\n",
              "      <th>4</th>\n",
              "      <td>None</td>\n",
              "      <td>0</td>\n",
              "      <td>1</td>\n",
              "      <td>0</td>\n",
              "      <td>0</td>\n",
              "      <td>0</td>\n",
              "      <td>0</td>\n",
              "      <td>0</td>\n",
              "      <td>1</td>\n",
              "      <td>1</td>\n",
              "    </tr>\n",
              "  </tbody>\n",
              "</table>\n",
              "</div>\n",
              "      <button class=\"colab-df-convert\" onclick=\"convertToInteractive('df-00b167ec-11a0-465c-941b-10da184fc520')\"\n",
              "              title=\"Convert this dataframe to an interactive table.\"\n",
              "              style=\"display:none;\">\n",
              "        \n",
              "  <svg xmlns=\"http://www.w3.org/2000/svg\" height=\"24px\"viewBox=\"0 0 24 24\"\n",
              "       width=\"24px\">\n",
              "    <path d=\"M0 0h24v24H0V0z\" fill=\"none\"/>\n",
              "    <path d=\"M18.56 5.44l.94 2.06.94-2.06 2.06-.94-2.06-.94-.94-2.06-.94 2.06-2.06.94zm-11 1L8.5 8.5l.94-2.06 2.06-.94-2.06-.94L8.5 2.5l-.94 2.06-2.06.94zm10 10l.94 2.06.94-2.06 2.06-.94-2.06-.94-.94-2.06-.94 2.06-2.06.94z\"/><path d=\"M17.41 7.96l-1.37-1.37c-.4-.4-.92-.59-1.43-.59-.52 0-1.04.2-1.43.59L10.3 9.45l-7.72 7.72c-.78.78-.78 2.05 0 2.83L4 21.41c.39.39.9.59 1.41.59.51 0 1.02-.2 1.41-.59l7.78-7.78 2.81-2.81c.8-.78.8-2.07 0-2.86zM5.41 20L4 18.59l7.72-7.72 1.47 1.35L5.41 20z\"/>\n",
              "  </svg>\n",
              "      </button>\n",
              "      \n",
              "  <style>\n",
              "    .colab-df-container {\n",
              "      display:flex;\n",
              "      flex-wrap:wrap;\n",
              "      gap: 12px;\n",
              "    }\n",
              "\n",
              "    .colab-df-convert {\n",
              "      background-color: #E8F0FE;\n",
              "      border: none;\n",
              "      border-radius: 50%;\n",
              "      cursor: pointer;\n",
              "      display: none;\n",
              "      fill: #1967D2;\n",
              "      height: 32px;\n",
              "      padding: 0 0 0 0;\n",
              "      width: 32px;\n",
              "    }\n",
              "\n",
              "    .colab-df-convert:hover {\n",
              "      background-color: #E2EBFA;\n",
              "      box-shadow: 0px 1px 2px rgba(60, 64, 67, 0.3), 0px 1px 3px 1px rgba(60, 64, 67, 0.15);\n",
              "      fill: #174EA6;\n",
              "    }\n",
              "\n",
              "    [theme=dark] .colab-df-convert {\n",
              "      background-color: #3B4455;\n",
              "      fill: #D2E3FC;\n",
              "    }\n",
              "\n",
              "    [theme=dark] .colab-df-convert:hover {\n",
              "      background-color: #434B5C;\n",
              "      box-shadow: 0px 1px 3px 1px rgba(0, 0, 0, 0.15);\n",
              "      filter: drop-shadow(0px 1px 2px rgba(0, 0, 0, 0.3));\n",
              "      fill: #FFFFFF;\n",
              "    }\n",
              "  </style>\n",
              "\n",
              "      <script>\n",
              "        const buttonEl =\n",
              "          document.querySelector('#df-00b167ec-11a0-465c-941b-10da184fc520 button.colab-df-convert');\n",
              "        buttonEl.style.display =\n",
              "          google.colab.kernel.accessAllowed ? 'block' : 'none';\n",
              "\n",
              "        async function convertToInteractive(key) {\n",
              "          const element = document.querySelector('#df-00b167ec-11a0-465c-941b-10da184fc520');\n",
              "          const dataTable =\n",
              "            await google.colab.kernel.invokeFunction('convertToInteractive',\n",
              "                                                     [key], {});\n",
              "          if (!dataTable) return;\n",
              "\n",
              "          const docLinkHtml = 'Like what you see? Visit the ' +\n",
              "            '<a target=\"_blank\" href=https://colab.research.google.com/notebooks/data_table.ipynb>data table notebook</a>'\n",
              "            + ' to learn more about interactive tables.';\n",
              "          element.innerHTML = '';\n",
              "          dataTable['output_type'] = 'display_data';\n",
              "          await google.colab.output.renderOutput(dataTable, element);\n",
              "          const docLink = document.createElement('div');\n",
              "          docLink.innerHTML = docLinkHtml;\n",
              "          element.appendChild(docLink);\n",
              "        }\n",
              "      </script>\n",
              "    </div>\n",
              "  </div>\n",
              "  "
            ]
          },
          "metadata": {},
          "execution_count": 157
        }
      ],
      "source": [
        "feature_names = ['Domain', 'Have_IP', 'URL_Length','Redirection', \n",
        "                      'https_Domain', 'TinyURL', 'Prefix/Suffix',\"url depth\", 'Label',\"at sign\"]\n",
        "\n",
        "phishing_features_extracted = pd.DataFrame(phishing_features, columns= feature_names)\n",
        "phishing_features_extracted.head()"
      ]
    },
    {
      "cell_type": "code",
      "execution_count": 158,
      "metadata": {
        "id": "9r83K39oOJmm"
      },
      "outputs": [],
      "source": [
        "phishing_features_extracted.to_csv('phishing_features_extracted.csv', index=False)"
      ]
    },
    {
      "cell_type": "code",
      "execution_count": 159,
      "metadata": {
        "colab": {
          "base_uri": "https://localhost:8080/",
          "height": 206
        },
        "id": "vU_dBsU4OJmn",
        "outputId": "77822c58-54e6-4bec-b076-f3a1ec40ebf3"
      },
      "outputs": [
        {
          "output_type": "execute_result",
          "data": {
            "text/plain": [
              "  Domain  Have_IP  URL_Length  Redirection  https_Domain  TinyURL  \\\n",
              "0   None        0           1            0             0        0   \n",
              "1   None        0           1            1             0        0   \n",
              "2   None        0           1            0             0        0   \n",
              "3   None        0           1            0             0        0   \n",
              "4   None        0           1            0             0        0   \n",
              "\n",
              "   Prefix/Suffix  url depth  Label  at sign  \n",
              "0              0          1      0        0  \n",
              "1              0          1      0        0  \n",
              "2              0          1      0        0  \n",
              "3              0          3      0        0  \n",
              "4              0          3      0        0  "
            ],
            "text/html": [
              "\n",
              "  <div id=\"df-d0eb0e0a-bb87-4cdc-80b5-43c3327994df\">\n",
              "    <div class=\"colab-df-container\">\n",
              "      <div>\n",
              "<style scoped>\n",
              "    .dataframe tbody tr th:only-of-type {\n",
              "        vertical-align: middle;\n",
              "    }\n",
              "\n",
              "    .dataframe tbody tr th {\n",
              "        vertical-align: top;\n",
              "    }\n",
              "\n",
              "    .dataframe thead th {\n",
              "        text-align: right;\n",
              "    }\n",
              "</style>\n",
              "<table border=\"1\" class=\"dataframe\">\n",
              "  <thead>\n",
              "    <tr style=\"text-align: right;\">\n",
              "      <th></th>\n",
              "      <th>Domain</th>\n",
              "      <th>Have_IP</th>\n",
              "      <th>URL_Length</th>\n",
              "      <th>Redirection</th>\n",
              "      <th>https_Domain</th>\n",
              "      <th>TinyURL</th>\n",
              "      <th>Prefix/Suffix</th>\n",
              "      <th>url depth</th>\n",
              "      <th>Label</th>\n",
              "      <th>at sign</th>\n",
              "    </tr>\n",
              "  </thead>\n",
              "  <tbody>\n",
              "    <tr>\n",
              "      <th>0</th>\n",
              "      <td>None</td>\n",
              "      <td>0</td>\n",
              "      <td>1</td>\n",
              "      <td>0</td>\n",
              "      <td>0</td>\n",
              "      <td>0</td>\n",
              "      <td>0</td>\n",
              "      <td>1</td>\n",
              "      <td>0</td>\n",
              "      <td>0</td>\n",
              "    </tr>\n",
              "    <tr>\n",
              "      <th>1</th>\n",
              "      <td>None</td>\n",
              "      <td>0</td>\n",
              "      <td>1</td>\n",
              "      <td>1</td>\n",
              "      <td>0</td>\n",
              "      <td>0</td>\n",
              "      <td>0</td>\n",
              "      <td>1</td>\n",
              "      <td>0</td>\n",
              "      <td>0</td>\n",
              "    </tr>\n",
              "    <tr>\n",
              "      <th>2</th>\n",
              "      <td>None</td>\n",
              "      <td>0</td>\n",
              "      <td>1</td>\n",
              "      <td>0</td>\n",
              "      <td>0</td>\n",
              "      <td>0</td>\n",
              "      <td>0</td>\n",
              "      <td>1</td>\n",
              "      <td>0</td>\n",
              "      <td>0</td>\n",
              "    </tr>\n",
              "    <tr>\n",
              "      <th>3</th>\n",
              "      <td>None</td>\n",
              "      <td>0</td>\n",
              "      <td>1</td>\n",
              "      <td>0</td>\n",
              "      <td>0</td>\n",
              "      <td>0</td>\n",
              "      <td>0</td>\n",
              "      <td>3</td>\n",
              "      <td>0</td>\n",
              "      <td>0</td>\n",
              "    </tr>\n",
              "    <tr>\n",
              "      <th>4</th>\n",
              "      <td>None</td>\n",
              "      <td>0</td>\n",
              "      <td>1</td>\n",
              "      <td>0</td>\n",
              "      <td>0</td>\n",
              "      <td>0</td>\n",
              "      <td>0</td>\n",
              "      <td>3</td>\n",
              "      <td>0</td>\n",
              "      <td>0</td>\n",
              "    </tr>\n",
              "  </tbody>\n",
              "</table>\n",
              "</div>\n",
              "      <button class=\"colab-df-convert\" onclick=\"convertToInteractive('df-d0eb0e0a-bb87-4cdc-80b5-43c3327994df')\"\n",
              "              title=\"Convert this dataframe to an interactive table.\"\n",
              "              style=\"display:none;\">\n",
              "        \n",
              "  <svg xmlns=\"http://www.w3.org/2000/svg\" height=\"24px\"viewBox=\"0 0 24 24\"\n",
              "       width=\"24px\">\n",
              "    <path d=\"M0 0h24v24H0V0z\" fill=\"none\"/>\n",
              "    <path d=\"M18.56 5.44l.94 2.06.94-2.06 2.06-.94-2.06-.94-.94-2.06-.94 2.06-2.06.94zm-11 1L8.5 8.5l.94-2.06 2.06-.94-2.06-.94L8.5 2.5l-.94 2.06-2.06.94zm10 10l.94 2.06.94-2.06 2.06-.94-2.06-.94-.94-2.06-.94 2.06-2.06.94z\"/><path d=\"M17.41 7.96l-1.37-1.37c-.4-.4-.92-.59-1.43-.59-.52 0-1.04.2-1.43.59L10.3 9.45l-7.72 7.72c-.78.78-.78 2.05 0 2.83L4 21.41c.39.39.9.59 1.41.59.51 0 1.02-.2 1.41-.59l7.78-7.78 2.81-2.81c.8-.78.8-2.07 0-2.86zM5.41 20L4 18.59l7.72-7.72 1.47 1.35L5.41 20z\"/>\n",
              "  </svg>\n",
              "      </button>\n",
              "      \n",
              "  <style>\n",
              "    .colab-df-container {\n",
              "      display:flex;\n",
              "      flex-wrap:wrap;\n",
              "      gap: 12px;\n",
              "    }\n",
              "\n",
              "    .colab-df-convert {\n",
              "      background-color: #E8F0FE;\n",
              "      border: none;\n",
              "      border-radius: 50%;\n",
              "      cursor: pointer;\n",
              "      display: none;\n",
              "      fill: #1967D2;\n",
              "      height: 32px;\n",
              "      padding: 0 0 0 0;\n",
              "      width: 32px;\n",
              "    }\n",
              "\n",
              "    .colab-df-convert:hover {\n",
              "      background-color: #E2EBFA;\n",
              "      box-shadow: 0px 1px 2px rgba(60, 64, 67, 0.3), 0px 1px 3px 1px rgba(60, 64, 67, 0.15);\n",
              "      fill: #174EA6;\n",
              "    }\n",
              "\n",
              "    [theme=dark] .colab-df-convert {\n",
              "      background-color: #3B4455;\n",
              "      fill: #D2E3FC;\n",
              "    }\n",
              "\n",
              "    [theme=dark] .colab-df-convert:hover {\n",
              "      background-color: #434B5C;\n",
              "      box-shadow: 0px 1px 3px 1px rgba(0, 0, 0, 0.15);\n",
              "      filter: drop-shadow(0px 1px 2px rgba(0, 0, 0, 0.3));\n",
              "      fill: #FFFFFF;\n",
              "    }\n",
              "  </style>\n",
              "\n",
              "      <script>\n",
              "        const buttonEl =\n",
              "          document.querySelector('#df-d0eb0e0a-bb87-4cdc-80b5-43c3327994df button.colab-df-convert');\n",
              "        buttonEl.style.display =\n",
              "          google.colab.kernel.accessAllowed ? 'block' : 'none';\n",
              "\n",
              "        async function convertToInteractive(key) {\n",
              "          const element = document.querySelector('#df-d0eb0e0a-bb87-4cdc-80b5-43c3327994df');\n",
              "          const dataTable =\n",
              "            await google.colab.kernel.invokeFunction('convertToInteractive',\n",
              "                                                     [key], {});\n",
              "          if (!dataTable) return;\n",
              "\n",
              "          const docLinkHtml = 'Like what you see? Visit the ' +\n",
              "            '<a target=\"_blank\" href=https://colab.research.google.com/notebooks/data_table.ipynb>data table notebook</a>'\n",
              "            + ' to learn more about interactive tables.';\n",
              "          element.innerHTML = '';\n",
              "          dataTable['output_type'] = 'display_data';\n",
              "          await google.colab.output.renderOutput(dataTable, element);\n",
              "          const docLink = document.createElement('div');\n",
              "          docLink.innerHTML = docLinkHtml;\n",
              "          element.appendChild(docLink);\n",
              "        }\n",
              "      </script>\n",
              "    </div>\n",
              "  </div>\n",
              "  "
            ]
          },
          "metadata": {},
          "execution_count": 159
        }
      ],
      "source": [
        "combined_datastore = pd.concat([legitimate_features_extracted, phishing_features_extracted]).reset_index(drop=True)\n",
        "combined_datastore.head()"
      ]
    },
    {
      "cell_type": "code",
      "source": [],
      "metadata": {
        "id": "1eCEzfBsPaL5"
      },
      "execution_count": 159,
      "outputs": []
    },
    {
      "cell_type": "code",
      "execution_count": 160,
      "metadata": {
        "colab": {
          "base_uri": "https://localhost:8080/"
        },
        "id": "eY7nVVX30khr",
        "outputId": "c9435a64-d5e1-4b8d-edbd-c084749cec13"
      },
      "outputs": [
        {
          "output_type": "stream",
          "name": "stdout",
          "text": [
            "Drive already mounted at /content/drive/; to attempt to forcibly remount, call drive.mount(\"/content/drive/\", force_remount=True).\n"
          ]
        }
      ],
      "source": [
        "from google.colab import drive\n",
        "\n",
        "drive.mount('/content/drive/')"
      ]
    },
    {
      "cell_type": "code",
      "execution_count": 161,
      "metadata": {
        "id": "iCYW4svHOJmo"
      },
      "outputs": [],
      "source": [
        "combined_datastore.to_csv('combined_datastore.csv', index=False)"
      ]
    },
    {
      "cell_type": "code",
      "execution_count": 162,
      "metadata": {
        "colab": {
          "base_uri": "https://localhost:8080/",
          "height": 206
        },
        "id": "HdLlxGGrOJmo",
        "outputId": "b681bdfe-6b2d-4087-99ce-d244f73ce81e"
      },
      "outputs": [
        {
          "output_type": "execute_result",
          "data": {
            "text/plain": [
              "  Domain  Have_IP  URL_Length  Redirection  https_Domain  TinyURL  \\\n",
              "0   None        0           1            0             0        0   \n",
              "1   None        0           1            1             0        0   \n",
              "2   None        0           1            0             0        0   \n",
              "3   None        0           1            0             0        0   \n",
              "4   None        0           1            0             0        0   \n",
              "\n",
              "   Prefix/Suffix  url depth  Label  at sign  \n",
              "0              0          1      0        0  \n",
              "1              0          1      0        0  \n",
              "2              0          1      0        0  \n",
              "3              0          3      0        0  \n",
              "4              0          3      0        0  "
            ],
            "text/html": [
              "\n",
              "  <div id=\"df-68bc31c3-30a9-4da3-ba70-7363ed717159\">\n",
              "    <div class=\"colab-df-container\">\n",
              "      <div>\n",
              "<style scoped>\n",
              "    .dataframe tbody tr th:only-of-type {\n",
              "        vertical-align: middle;\n",
              "    }\n",
              "\n",
              "    .dataframe tbody tr th {\n",
              "        vertical-align: top;\n",
              "    }\n",
              "\n",
              "    .dataframe thead th {\n",
              "        text-align: right;\n",
              "    }\n",
              "</style>\n",
              "<table border=\"1\" class=\"dataframe\">\n",
              "  <thead>\n",
              "    <tr style=\"text-align: right;\">\n",
              "      <th></th>\n",
              "      <th>Domain</th>\n",
              "      <th>Have_IP</th>\n",
              "      <th>URL_Length</th>\n",
              "      <th>Redirection</th>\n",
              "      <th>https_Domain</th>\n",
              "      <th>TinyURL</th>\n",
              "      <th>Prefix/Suffix</th>\n",
              "      <th>url depth</th>\n",
              "      <th>Label</th>\n",
              "      <th>at sign</th>\n",
              "    </tr>\n",
              "  </thead>\n",
              "  <tbody>\n",
              "    <tr>\n",
              "      <th>0</th>\n",
              "      <td>None</td>\n",
              "      <td>0</td>\n",
              "      <td>1</td>\n",
              "      <td>0</td>\n",
              "      <td>0</td>\n",
              "      <td>0</td>\n",
              "      <td>0</td>\n",
              "      <td>1</td>\n",
              "      <td>0</td>\n",
              "      <td>0</td>\n",
              "    </tr>\n",
              "    <tr>\n",
              "      <th>1</th>\n",
              "      <td>None</td>\n",
              "      <td>0</td>\n",
              "      <td>1</td>\n",
              "      <td>1</td>\n",
              "      <td>0</td>\n",
              "      <td>0</td>\n",
              "      <td>0</td>\n",
              "      <td>1</td>\n",
              "      <td>0</td>\n",
              "      <td>0</td>\n",
              "    </tr>\n",
              "    <tr>\n",
              "      <th>2</th>\n",
              "      <td>None</td>\n",
              "      <td>0</td>\n",
              "      <td>1</td>\n",
              "      <td>0</td>\n",
              "      <td>0</td>\n",
              "      <td>0</td>\n",
              "      <td>0</td>\n",
              "      <td>1</td>\n",
              "      <td>0</td>\n",
              "      <td>0</td>\n",
              "    </tr>\n",
              "    <tr>\n",
              "      <th>3</th>\n",
              "      <td>None</td>\n",
              "      <td>0</td>\n",
              "      <td>1</td>\n",
              "      <td>0</td>\n",
              "      <td>0</td>\n",
              "      <td>0</td>\n",
              "      <td>0</td>\n",
              "      <td>3</td>\n",
              "      <td>0</td>\n",
              "      <td>0</td>\n",
              "    </tr>\n",
              "    <tr>\n",
              "      <th>4</th>\n",
              "      <td>None</td>\n",
              "      <td>0</td>\n",
              "      <td>1</td>\n",
              "      <td>0</td>\n",
              "      <td>0</td>\n",
              "      <td>0</td>\n",
              "      <td>0</td>\n",
              "      <td>3</td>\n",
              "      <td>0</td>\n",
              "      <td>0</td>\n",
              "    </tr>\n",
              "  </tbody>\n",
              "</table>\n",
              "</div>\n",
              "      <button class=\"colab-df-convert\" onclick=\"convertToInteractive('df-68bc31c3-30a9-4da3-ba70-7363ed717159')\"\n",
              "              title=\"Convert this dataframe to an interactive table.\"\n",
              "              style=\"display:none;\">\n",
              "        \n",
              "  <svg xmlns=\"http://www.w3.org/2000/svg\" height=\"24px\"viewBox=\"0 0 24 24\"\n",
              "       width=\"24px\">\n",
              "    <path d=\"M0 0h24v24H0V0z\" fill=\"none\"/>\n",
              "    <path d=\"M18.56 5.44l.94 2.06.94-2.06 2.06-.94-2.06-.94-.94-2.06-.94 2.06-2.06.94zm-11 1L8.5 8.5l.94-2.06 2.06-.94-2.06-.94L8.5 2.5l-.94 2.06-2.06.94zm10 10l.94 2.06.94-2.06 2.06-.94-2.06-.94-.94-2.06-.94 2.06-2.06.94z\"/><path d=\"M17.41 7.96l-1.37-1.37c-.4-.4-.92-.59-1.43-.59-.52 0-1.04.2-1.43.59L10.3 9.45l-7.72 7.72c-.78.78-.78 2.05 0 2.83L4 21.41c.39.39.9.59 1.41.59.51 0 1.02-.2 1.41-.59l7.78-7.78 2.81-2.81c.8-.78.8-2.07 0-2.86zM5.41 20L4 18.59l7.72-7.72 1.47 1.35L5.41 20z\"/>\n",
              "  </svg>\n",
              "      </button>\n",
              "      \n",
              "  <style>\n",
              "    .colab-df-container {\n",
              "      display:flex;\n",
              "      flex-wrap:wrap;\n",
              "      gap: 12px;\n",
              "    }\n",
              "\n",
              "    .colab-df-convert {\n",
              "      background-color: #E8F0FE;\n",
              "      border: none;\n",
              "      border-radius: 50%;\n",
              "      cursor: pointer;\n",
              "      display: none;\n",
              "      fill: #1967D2;\n",
              "      height: 32px;\n",
              "      padding: 0 0 0 0;\n",
              "      width: 32px;\n",
              "    }\n",
              "\n",
              "    .colab-df-convert:hover {\n",
              "      background-color: #E2EBFA;\n",
              "      box-shadow: 0px 1px 2px rgba(60, 64, 67, 0.3), 0px 1px 3px 1px rgba(60, 64, 67, 0.15);\n",
              "      fill: #174EA6;\n",
              "    }\n",
              "\n",
              "    [theme=dark] .colab-df-convert {\n",
              "      background-color: #3B4455;\n",
              "      fill: #D2E3FC;\n",
              "    }\n",
              "\n",
              "    [theme=dark] .colab-df-convert:hover {\n",
              "      background-color: #434B5C;\n",
              "      box-shadow: 0px 1px 3px 1px rgba(0, 0, 0, 0.15);\n",
              "      filter: drop-shadow(0px 1px 2px rgba(0, 0, 0, 0.3));\n",
              "      fill: #FFFFFF;\n",
              "    }\n",
              "  </style>\n",
              "\n",
              "      <script>\n",
              "        const buttonEl =\n",
              "          document.querySelector('#df-68bc31c3-30a9-4da3-ba70-7363ed717159 button.colab-df-convert');\n",
              "        buttonEl.style.display =\n",
              "          google.colab.kernel.accessAllowed ? 'block' : 'none';\n",
              "\n",
              "        async function convertToInteractive(key) {\n",
              "          const element = document.querySelector('#df-68bc31c3-30a9-4da3-ba70-7363ed717159');\n",
              "          const dataTable =\n",
              "            await google.colab.kernel.invokeFunction('convertToInteractive',\n",
              "                                                     [key], {});\n",
              "          if (!dataTable) return;\n",
              "\n",
              "          const docLinkHtml = 'Like what you see? Visit the ' +\n",
              "            '<a target=\"_blank\" href=https://colab.research.google.com/notebooks/data_table.ipynb>data table notebook</a>'\n",
              "            + ' to learn more about interactive tables.';\n",
              "          element.innerHTML = '';\n",
              "          dataTable['output_type'] = 'display_data';\n",
              "          await google.colab.output.renderOutput(dataTable, element);\n",
              "          const docLink = document.createElement('div');\n",
              "          docLink.innerHTML = docLinkHtml;\n",
              "          element.appendChild(docLink);\n",
              "        }\n",
              "      </script>\n",
              "    </div>\n",
              "  </div>\n",
              "  "
            ]
          },
          "metadata": {},
          "execution_count": 162
        }
      ],
      "source": [
        "Data_store = combined_datastore\n",
        "Data_store.head()"
      ]
    },
    {
      "cell_type": "code",
      "execution_count": 163,
      "metadata": {
        "colab": {
          "base_uri": "https://localhost:8080/"
        },
        "id": "Z5HyhhKQOJmp",
        "outputId": "38004323-6474-458c-b5a2-f7973caa24f2"
      },
      "outputs": [
        {
          "output_type": "execute_result",
          "data": {
            "text/plain": [
              "Index(['Domain', 'Have_IP', 'URL_Length', 'Redirection', 'https_Domain',\n",
              "       'TinyURL', 'Prefix/Suffix', 'url depth', 'Label', 'at sign'],\n",
              "      dtype='object')"
            ]
          },
          "metadata": {},
          "execution_count": 163
        }
      ],
      "source": [
        "Data_store.columns"
      ]
    },
    {
      "cell_type": "code",
      "execution_count": 164,
      "metadata": {
        "colab": {
          "base_uri": "https://localhost:8080/"
        },
        "id": "RBPUy9stOJmq",
        "outputId": "af64a3c6-8ec0-4c9a-cd63-6fb6b5d185fa"
      },
      "outputs": [
        {
          "output_type": "execute_result",
          "data": {
            "text/plain": [
              "(20000, 10)"
            ]
          },
          "metadata": {},
          "execution_count": 164
        }
      ],
      "source": [
        "Data_store.shape"
      ]
    },
    {
      "cell_type": "code",
      "execution_count": 165,
      "metadata": {
        "colab": {
          "base_uri": "https://localhost:8080/",
          "height": 300
        },
        "id": "y2uwOYTdOJms",
        "outputId": "30771958-9cfa-456b-db4a-5782f25660b5"
      },
      "outputs": [
        {
          "output_type": "execute_result",
          "data": {
            "text/plain": [
              "       Have_IP    URL_Length   Redirection  https_Domain       TinyURL  \\\n",
              "count  20000.0  20000.000000  20000.000000  20000.000000  20000.000000   \n",
              "mean       0.0      0.629450      0.009950      0.000050      0.070500   \n",
              "std        0.0      0.482964      0.099255      0.007071      0.255994   \n",
              "min        0.0      0.000000      0.000000      0.000000      0.000000   \n",
              "25%        0.0      0.000000      0.000000      0.000000      0.000000   \n",
              "50%        0.0      1.000000      0.000000      0.000000      0.000000   \n",
              "75%        0.0      1.000000      0.000000      0.000000      0.000000   \n",
              "max        0.0      1.000000      1.000000      1.000000      1.000000   \n",
              "\n",
              "       Prefix/Suffix     url depth         Label      at sign  \n",
              "count   20000.000000  20000.000000  20000.000000  20000.00000  \n",
              "mean        0.178600      2.091600      0.500000      0.01565  \n",
              "std         0.383027      2.087038      0.500013      0.12412  \n",
              "min         0.000000      0.000000      0.000000      0.00000  \n",
              "25%         0.000000      0.000000      0.000000      0.00000  \n",
              "50%         0.000000      2.000000      0.500000      0.00000  \n",
              "75%         0.000000      3.000000      1.000000      0.00000  \n",
              "max         1.000000     18.000000      1.000000      1.00000  "
            ],
            "text/html": [
              "\n",
              "  <div id=\"df-d349bfbb-b78a-485b-b3c6-90c4b1efffc6\">\n",
              "    <div class=\"colab-df-container\">\n",
              "      <div>\n",
              "<style scoped>\n",
              "    .dataframe tbody tr th:only-of-type {\n",
              "        vertical-align: middle;\n",
              "    }\n",
              "\n",
              "    .dataframe tbody tr th {\n",
              "        vertical-align: top;\n",
              "    }\n",
              "\n",
              "    .dataframe thead th {\n",
              "        text-align: right;\n",
              "    }\n",
              "</style>\n",
              "<table border=\"1\" class=\"dataframe\">\n",
              "  <thead>\n",
              "    <tr style=\"text-align: right;\">\n",
              "      <th></th>\n",
              "      <th>Have_IP</th>\n",
              "      <th>URL_Length</th>\n",
              "      <th>Redirection</th>\n",
              "      <th>https_Domain</th>\n",
              "      <th>TinyURL</th>\n",
              "      <th>Prefix/Suffix</th>\n",
              "      <th>url depth</th>\n",
              "      <th>Label</th>\n",
              "      <th>at sign</th>\n",
              "    </tr>\n",
              "  </thead>\n",
              "  <tbody>\n",
              "    <tr>\n",
              "      <th>count</th>\n",
              "      <td>20000.0</td>\n",
              "      <td>20000.000000</td>\n",
              "      <td>20000.000000</td>\n",
              "      <td>20000.000000</td>\n",
              "      <td>20000.000000</td>\n",
              "      <td>20000.000000</td>\n",
              "      <td>20000.000000</td>\n",
              "      <td>20000.000000</td>\n",
              "      <td>20000.00000</td>\n",
              "    </tr>\n",
              "    <tr>\n",
              "      <th>mean</th>\n",
              "      <td>0.0</td>\n",
              "      <td>0.629450</td>\n",
              "      <td>0.009950</td>\n",
              "      <td>0.000050</td>\n",
              "      <td>0.070500</td>\n",
              "      <td>0.178600</td>\n",
              "      <td>2.091600</td>\n",
              "      <td>0.500000</td>\n",
              "      <td>0.01565</td>\n",
              "    </tr>\n",
              "    <tr>\n",
              "      <th>std</th>\n",
              "      <td>0.0</td>\n",
              "      <td>0.482964</td>\n",
              "      <td>0.099255</td>\n",
              "      <td>0.007071</td>\n",
              "      <td>0.255994</td>\n",
              "      <td>0.383027</td>\n",
              "      <td>2.087038</td>\n",
              "      <td>0.500013</td>\n",
              "      <td>0.12412</td>\n",
              "    </tr>\n",
              "    <tr>\n",
              "      <th>min</th>\n",
              "      <td>0.0</td>\n",
              "      <td>0.000000</td>\n",
              "      <td>0.000000</td>\n",
              "      <td>0.000000</td>\n",
              "      <td>0.000000</td>\n",
              "      <td>0.000000</td>\n",
              "      <td>0.000000</td>\n",
              "      <td>0.000000</td>\n",
              "      <td>0.00000</td>\n",
              "    </tr>\n",
              "    <tr>\n",
              "      <th>25%</th>\n",
              "      <td>0.0</td>\n",
              "      <td>0.000000</td>\n",
              "      <td>0.000000</td>\n",
              "      <td>0.000000</td>\n",
              "      <td>0.000000</td>\n",
              "      <td>0.000000</td>\n",
              "      <td>0.000000</td>\n",
              "      <td>0.000000</td>\n",
              "      <td>0.00000</td>\n",
              "    </tr>\n",
              "    <tr>\n",
              "      <th>50%</th>\n",
              "      <td>0.0</td>\n",
              "      <td>1.000000</td>\n",
              "      <td>0.000000</td>\n",
              "      <td>0.000000</td>\n",
              "      <td>0.000000</td>\n",
              "      <td>0.000000</td>\n",
              "      <td>2.000000</td>\n",
              "      <td>0.500000</td>\n",
              "      <td>0.00000</td>\n",
              "    </tr>\n",
              "    <tr>\n",
              "      <th>75%</th>\n",
              "      <td>0.0</td>\n",
              "      <td>1.000000</td>\n",
              "      <td>0.000000</td>\n",
              "      <td>0.000000</td>\n",
              "      <td>0.000000</td>\n",
              "      <td>0.000000</td>\n",
              "      <td>3.000000</td>\n",
              "      <td>1.000000</td>\n",
              "      <td>0.00000</td>\n",
              "    </tr>\n",
              "    <tr>\n",
              "      <th>max</th>\n",
              "      <td>0.0</td>\n",
              "      <td>1.000000</td>\n",
              "      <td>1.000000</td>\n",
              "      <td>1.000000</td>\n",
              "      <td>1.000000</td>\n",
              "      <td>1.000000</td>\n",
              "      <td>18.000000</td>\n",
              "      <td>1.000000</td>\n",
              "      <td>1.00000</td>\n",
              "    </tr>\n",
              "  </tbody>\n",
              "</table>\n",
              "</div>\n",
              "      <button class=\"colab-df-convert\" onclick=\"convertToInteractive('df-d349bfbb-b78a-485b-b3c6-90c4b1efffc6')\"\n",
              "              title=\"Convert this dataframe to an interactive table.\"\n",
              "              style=\"display:none;\">\n",
              "        \n",
              "  <svg xmlns=\"http://www.w3.org/2000/svg\" height=\"24px\"viewBox=\"0 0 24 24\"\n",
              "       width=\"24px\">\n",
              "    <path d=\"M0 0h24v24H0V0z\" fill=\"none\"/>\n",
              "    <path d=\"M18.56 5.44l.94 2.06.94-2.06 2.06-.94-2.06-.94-.94-2.06-.94 2.06-2.06.94zm-11 1L8.5 8.5l.94-2.06 2.06-.94-2.06-.94L8.5 2.5l-.94 2.06-2.06.94zm10 10l.94 2.06.94-2.06 2.06-.94-2.06-.94-.94-2.06-.94 2.06-2.06.94z\"/><path d=\"M17.41 7.96l-1.37-1.37c-.4-.4-.92-.59-1.43-.59-.52 0-1.04.2-1.43.59L10.3 9.45l-7.72 7.72c-.78.78-.78 2.05 0 2.83L4 21.41c.39.39.9.59 1.41.59.51 0 1.02-.2 1.41-.59l7.78-7.78 2.81-2.81c.8-.78.8-2.07 0-2.86zM5.41 20L4 18.59l7.72-7.72 1.47 1.35L5.41 20z\"/>\n",
              "  </svg>\n",
              "      </button>\n",
              "      \n",
              "  <style>\n",
              "    .colab-df-container {\n",
              "      display:flex;\n",
              "      flex-wrap:wrap;\n",
              "      gap: 12px;\n",
              "    }\n",
              "\n",
              "    .colab-df-convert {\n",
              "      background-color: #E8F0FE;\n",
              "      border: none;\n",
              "      border-radius: 50%;\n",
              "      cursor: pointer;\n",
              "      display: none;\n",
              "      fill: #1967D2;\n",
              "      height: 32px;\n",
              "      padding: 0 0 0 0;\n",
              "      width: 32px;\n",
              "    }\n",
              "\n",
              "    .colab-df-convert:hover {\n",
              "      background-color: #E2EBFA;\n",
              "      box-shadow: 0px 1px 2px rgba(60, 64, 67, 0.3), 0px 1px 3px 1px rgba(60, 64, 67, 0.15);\n",
              "      fill: #174EA6;\n",
              "    }\n",
              "\n",
              "    [theme=dark] .colab-df-convert {\n",
              "      background-color: #3B4455;\n",
              "      fill: #D2E3FC;\n",
              "    }\n",
              "\n",
              "    [theme=dark] .colab-df-convert:hover {\n",
              "      background-color: #434B5C;\n",
              "      box-shadow: 0px 1px 3px 1px rgba(0, 0, 0, 0.15);\n",
              "      filter: drop-shadow(0px 1px 2px rgba(0, 0, 0, 0.3));\n",
              "      fill: #FFFFFF;\n",
              "    }\n",
              "  </style>\n",
              "\n",
              "      <script>\n",
              "        const buttonEl =\n",
              "          document.querySelector('#df-d349bfbb-b78a-485b-b3c6-90c4b1efffc6 button.colab-df-convert');\n",
              "        buttonEl.style.display =\n",
              "          google.colab.kernel.accessAllowed ? 'block' : 'none';\n",
              "\n",
              "        async function convertToInteractive(key) {\n",
              "          const element = document.querySelector('#df-d349bfbb-b78a-485b-b3c6-90c4b1efffc6');\n",
              "          const dataTable =\n",
              "            await google.colab.kernel.invokeFunction('convertToInteractive',\n",
              "                                                     [key], {});\n",
              "          if (!dataTable) return;\n",
              "\n",
              "          const docLinkHtml = 'Like what you see? Visit the ' +\n",
              "            '<a target=\"_blank\" href=https://colab.research.google.com/notebooks/data_table.ipynb>data table notebook</a>'\n",
              "            + ' to learn more about interactive tables.';\n",
              "          element.innerHTML = '';\n",
              "          dataTable['output_type'] = 'display_data';\n",
              "          await google.colab.output.renderOutput(dataTable, element);\n",
              "          const docLink = document.createElement('div');\n",
              "          docLink.innerHTML = docLinkHtml;\n",
              "          element.appendChild(docLink);\n",
              "        }\n",
              "      </script>\n",
              "    </div>\n",
              "  </div>\n",
              "  "
            ]
          },
          "metadata": {},
          "execution_count": 165
        }
      ],
      "source": [
        "\n",
        "Data_store.describe()"
      ]
    },
    {
      "cell_type": "code",
      "execution_count": 166,
      "metadata": {
        "colab": {
          "base_uri": "https://localhost:8080/"
        },
        "id": "1IqpeK3kOJmu",
        "outputId": "0fc0188c-544a-4649-db87-10b94d919db6"
      },
      "outputs": [
        {
          "output_type": "stream",
          "name": "stdout",
          "text": [
            "<class 'pandas.core.frame.DataFrame'>\n",
            "RangeIndex: 20000 entries, 0 to 19999\n",
            "Data columns (total 10 columns):\n",
            " #   Column         Non-Null Count  Dtype \n",
            "---  ------         --------------  ----- \n",
            " 0   Domain         696 non-null    object\n",
            " 1   Have_IP        20000 non-null  int64 \n",
            " 2   URL_Length     20000 non-null  int64 \n",
            " 3   Redirection    20000 non-null  int64 \n",
            " 4   https_Domain   20000 non-null  int64 \n",
            " 5   TinyURL        20000 non-null  int64 \n",
            " 6   Prefix/Suffix  20000 non-null  int64 \n",
            " 7   url depth      20000 non-null  int64 \n",
            " 8   Label          20000 non-null  int64 \n",
            " 9   at sign        20000 non-null  int64 \n",
            "dtypes: int64(9), object(1)\n",
            "memory usage: 1.5+ MB\n"
          ]
        }
      ],
      "source": [
        "Data_store.info()"
      ]
    },
    {
      "cell_type": "code",
      "execution_count": 167,
      "metadata": {
        "colab": {
          "base_uri": "https://localhost:8080/",
          "height": 879
        },
        "id": "385PCFtFOJmw",
        "outputId": "c4d089c5-4aca-458c-e719-aedde641e0c9"
      },
      "outputs": [
        {
          "output_type": "display_data",
          "data": {
            "text/plain": [
              "<Figure size 1080x1080 with 9 Axes>"
            ],
            "image/png": "[encoded data removed]"
          },
          "metadata": {
            "needs_background": "light"
          }
        }
      ],
      "source": [
        "Data_store.hist(bins = 50,figsize = (15,15))\n",
        "plt.show()"
      ]
    },
    {
      "cell_type": "code",
      "execution_count": 168,
      "metadata": {
        "colab": {
          "base_uri": "https://localhost:8080/",
          "height": 383
        },
        "id": "vXJiJ4_nOJmx",
        "outputId": "dd0db3bd-dd19-40b5-ca71-63e00dcad4a5"
      },
      "outputs": [
        {
          "output_type": "display_data",
          "data": {
            "text/plain": [
              "<Figure size 360x360 with 2 Axes>"
            ],
            "image/png": "[encoded data removed]"
          },
          "metadata": {
            "needs_background": "light"
          }
        }
      ],
      "source": [
        "plt.figure(figsize=(5,5))\n",
        "sns.heatmap(Data_store.corr())\n",
        "plt.show()"
      ]
    },
    {
      "cell_type": "code",
      "source": [
        "Data_store=pd.read_csv(\"/content/drive/MyDrive/final_features.csv\")"
      ],
      "metadata": {
        "id": "CteGCPu4uWpK"
      },
      "execution_count": 169,
      "outputs": []
    },
    {
      "cell_type": "code",
      "execution_count": 170,
      "metadata": {
        "colab": {
          "base_uri": "https://localhost:8080/"
        },
        "id": "gZ0UKGfqOJmy",
        "outputId": "3a2b5462-1b17-4f3c-90c1-8da4e2535602"
      },
      "outputs": [
        {
          "output_type": "execute_result",
          "data": {
            "text/plain": [
              "index                          0\n",
              "having_IPhaving_IP_Address     0\n",
              "URLURL_Length                  0\n",
              "Shortining_Service             0\n",
              "having_At_Symbol               0\n",
              "double_slash_redirecting       0\n",
              "Prefix_Suffix                  0\n",
              "having_Sub_Domain              0\n",
              "SSLfinal_State                 0\n",
              "Domain_registeration_length    0\n",
              "Favicon                        0\n",
              "port                           0\n",
              "HTTPS_token                    0\n",
              "Request_URL                    0\n",
              "URL_of_Anchor                  0\n",
              "Links_in_tags                  0\n",
              "SFH                            0\n",
              "Submitting_to_email            0\n",
              "Abnormal_URL                   0\n",
              "Redirect                       0\n",
              "on_mouseover                   0\n",
              "RightClick                     0\n",
              "popUpWidnow                    0\n",
              "Iframe                         0\n",
              "age_of_domain                  0\n",
              "DNSRecord                      0\n",
              "web_traffic                    0\n",
              "Page_Rank                      0\n",
              "Google_Index                   0\n",
              "Links_pointing_to_page         0\n",
              "Statistical_report             0\n",
              "Target                         0\n",
              "dtype: int64"
            ]
          },
          "metadata": {},
          "execution_count": 170
        }
      ],
      "source": [
        "Data_store.isnull().sum()"
      ]
    },
    {
      "cell_type": "code",
      "source": [
        "Data_store = Data_store.sample(frac=1).reset_index(drop=True)\n",
        "Data_store.head()\n",
        "     "
      ],
      "metadata": {
        "colab": {
          "base_uri": "https://localhost:8080/",
          "height": 300
        },
        "id": "UXK4sx6JQBfA",
        "outputId": "e4ee05d7-0707-4986-af44-35fd9db9918f"
      },
      "execution_count": 171,
      "outputs": [
        {
          "output_type": "execute_result",
          "data": {
            "text/plain": [
              "   index  having_IPhaving_IP_Address  URLURL_Length  Shortining_Service  \\\n",
              "0   5037                           1             -1                   1   \n",
              "1  10404                          -1             -1                   1   \n",
              "2   9275                          -1             -1                   1   \n",
              "3   7547                           1             -1                   1   \n",
              "4   3791                           1              1                   1   \n",
              "\n",
              "   having_At_Symbol  double_slash_redirecting  Prefix_Suffix  \\\n",
              "0                 1                         1             -1   \n",
              "1                 1                         1             -1   \n",
              "2                 1                         1             -1   \n",
              "3                 1                         1             -1   \n",
              "4                 1                         1             -1   \n",
              "\n",
              "   having_Sub_Domain  SSLfinal_State  Domain_registeration_length  ...  \\\n",
              "0                  1               1                           -1  ...   \n",
              "1                  1               1                           -1  ...   \n",
              "2                 -1              -1                           -1  ...   \n",
              "3                  0              -1                            1  ...   \n",
              "4                  0              -1                           -1  ...   \n",
              "\n",
              "   popUpWidnow  Iframe  age_of_domain  DNSRecord  web_traffic  Page_Rank  \\\n",
              "0            1       1              1          1            1         -1   \n",
              "1           -1       1              1          1            1         -1   \n",
              "2            1       1              1          1            1         -1   \n",
              "3            1       1             -1          1            1          1   \n",
              "4            1       1             -1         -1           -1         -1   \n",
              "\n",
              "   Google_Index  Links_pointing_to_page  Statistical_report  Target  \n",
              "0            -1                      -1                  -1       1  \n",
              "1             1                       0                   1       1  \n",
              "2            -1                       1                   1       0  \n",
              "3             1                       0                   1       0  \n",
              "4             1                       1                   1       0  \n",
              "\n",
              "[5 rows x 32 columns]"
            ],
            "text/html": [
              "\n",
              "  <div id=\"df-1fbb4f72-d8cc-458f-b4ac-875f945fa78d\">\n",
              "    <div class=\"colab-df-container\">\n",
              "      <div>\n",
              "<style scoped>\n",
              "    .dataframe tbody tr th:only-of-type {\n",
              "        vertical-align: middle;\n",
              "    }\n",
              "\n",
              "    .dataframe tbody tr th {\n",
              "        vertical-align: top;\n",
              "    }\n",
              "\n",
              "    .dataframe thead th {\n",
              "        text-align: right;\n",
              "    }\n",
              "</style>\n",
              "<table border=\"1\" class=\"dataframe\">\n",
              "  <thead>\n",
              "    <tr style=\"text-align: right;\">\n",
              "      <th></th>\n",
              "      <th>index</th>\n",
              "      <th>having_IPhaving_IP_Address</th>\n",
              "      <th>URLURL_Length</th>\n",
              "      <th>Shortining_Service</th>\n",
              "      <th>having_At_Symbol</th>\n",
              "      <th>double_slash_redirecting</th>\n",
              "      <th>Prefix_Suffix</th>\n",
              "      <th>having_Sub_Domain</th>\n",
              "      <th>SSLfinal_State</th>\n",
              "      <th>Domain_registeration_length</th>\n",
              "      <th>...</th>\n",
              "      <th>popUpWidnow</th>\n",
              "      <th>Iframe</th>\n",
              "      <th>age_of_domain</th>\n",
              "      <th>DNSRecord</th>\n",
              "      <th>web_traffic</th>\n",
              "      <th>Page_Rank</th>\n",
              "      <th>Google_Index</th>\n",
              "      <th>Links_pointing_to_page</th>\n",
              "      <th>Statistical_report</th>\n",
              "      <th>Target</th>\n",
              "    </tr>\n",
              "  </thead>\n",
              "  <tbody>\n",
              "    <tr>\n",
              "      <th>0</th>\n",
              "      <td>5037</td>\n",
              "      <td>1</td>\n",
              "      <td>-1</td>\n",
              "      <td>1</td>\n",
              "      <td>1</td>\n",
              "      <td>1</td>\n",
              "      <td>-1</td>\n",
              "      <td>1</td>\n",
              "      <td>1</td>\n",
              "      <td>-1</td>\n",
              "      <td>...</td>\n",
              "      <td>1</td>\n",
              "      <td>1</td>\n",
              "      <td>1</td>\n",
              "      <td>1</td>\n",
              "      <td>1</td>\n",
              "      <td>-1</td>\n",
              "      <td>-1</td>\n",
              "      <td>-1</td>\n",
              "      <td>-1</td>\n",
              "      <td>1</td>\n",
              "    </tr>\n",
              "    <tr>\n",
              "      <th>1</th>\n",
              "      <td>10404</td>\n",
              "      <td>-1</td>\n",
              "      <td>-1</td>\n",
              "      <td>1</td>\n",
              "      <td>1</td>\n",
              "      <td>1</td>\n",
              "      <td>-1</td>\n",
              "      <td>1</td>\n",
              "      <td>1</td>\n",
              "      <td>-1</td>\n",
              "      <td>...</td>\n",
              "      <td>-1</td>\n",
              "      <td>1</td>\n",
              "      <td>1</td>\n",
              "      <td>1</td>\n",
              "      <td>1</td>\n",
              "      <td>-1</td>\n",
              "      <td>1</td>\n",
              "      <td>0</td>\n",
              "      <td>1</td>\n",
              "      <td>1</td>\n",
              "    </tr>\n",
              "    <tr>\n",
              "      <th>2</th>\n",
              "      <td>9275</td>\n",
              "      <td>-1</td>\n",
              "      <td>-1</td>\n",
              "      <td>1</td>\n",
              "      <td>1</td>\n",
              "      <td>1</td>\n",
              "      <td>-1</td>\n",
              "      <td>-1</td>\n",
              "      <td>-1</td>\n",
              "      <td>-1</td>\n",
              "      <td>...</td>\n",
              "      <td>1</td>\n",
              "      <td>1</td>\n",
              "      <td>1</td>\n",
              "      <td>1</td>\n",
              "      <td>1</td>\n",
              "      <td>-1</td>\n",
              "      <td>-1</td>\n",
              "      <td>1</td>\n",
              "      <td>1</td>\n",
              "      <td>0</td>\n",
              "    </tr>\n",
              "    <tr>\n",
              "      <th>3</th>\n",
              "      <td>7547</td>\n",
              "      <td>1</td>\n",
              "      <td>-1</td>\n",
              "      <td>1</td>\n",
              "      <td>1</td>\n",
              "      <td>1</td>\n",
              "      <td>-1</td>\n",
              "      <td>0</td>\n",
              "      <td>-1</td>\n",
              "      <td>1</td>\n",
              "      <td>...</td>\n",
              "      <td>1</td>\n",
              "      <td>1</td>\n",
              "      <td>-1</td>\n",
              "      <td>1</td>\n",
              "      <td>1</td>\n",
              "      <td>1</td>\n",
              "      <td>1</td>\n",
              "      <td>0</td>\n",
              "      <td>1</td>\n",
              "      <td>0</td>\n",
              "    </tr>\n",
              "    <tr>\n",
              "      <th>4</th>\n",
              "      <td>3791</td>\n",
              "      <td>1</td>\n",
              "      <td>1</td>\n",
              "      <td>1</td>\n",
              "      <td>1</td>\n",
              "      <td>1</td>\n",
              "      <td>-1</td>\n",
              "      <td>0</td>\n",
              "      <td>-1</td>\n",
              "      <td>-1</td>\n",
              "      <td>...</td>\n",
              "      <td>1</td>\n",
              "      <td>1</td>\n",
              "      <td>-1</td>\n",
              "      <td>-1</td>\n",
              "      <td>-1</td>\n",
              "      <td>-1</td>\n",
              "      <td>1</td>\n",
              "      <td>1</td>\n",
              "      <td>1</td>\n",
              "      <td>0</td>\n",
              "    </tr>\n",
              "  </tbody>\n",
              "</table>\n",
              "<p>5 rows × 32 columns</p>\n",
              "</div>\n",
              "      <button class=\"colab-df-convert\" onclick=\"convertToInteractive('df-1fbb4f72-d8cc-458f-b4ac-875f945fa78d')\"\n",
              "              title=\"Convert this dataframe to an interactive table.\"\n",
              "              style=\"display:none;\">\n",
              "        \n",
              "  <svg xmlns=\"http://www.w3.org/2000/svg\" height=\"24px\"viewBox=\"0 0 24 24\"\n",
              "       width=\"24px\">\n",
              "    <path d=\"M0 0h24v24H0V0z\" fill=\"none\"/>\n",
              "    <path d=\"M18.56 5.44l.94 2.06.94-2.06 2.06-.94-2.06-.94-.94-2.06-.94 2.06-2.06.94zm-11 1L8.5 8.5l.94-2.06 2.06-.94-2.06-.94L8.5 2.5l-.94 2.06-2.06.94zm10 10l.94 2.06.94-2.06 2.06-.94-2.06-.94-.94-2.06-.94 2.06-2.06.94z\"/><path d=\"M17.41 7.96l-1.37-1.37c-.4-.4-.92-.59-1.43-.59-.52 0-1.04.2-1.43.59L10.3 9.45l-7.72 7.72c-.78.78-.78 2.05 0 2.83L4 21.41c.39.39.9.59 1.41.59.51 0 1.02-.2 1.41-.59l7.78-7.78 2.81-2.81c.8-.78.8-2.07 0-2.86zM5.41 20L4 18.59l7.72-7.72 1.47 1.35L5.41 20z\"/>\n",
              "  </svg>\n",
              "      </button>\n",
              "      \n",
              "  <style>\n",
              "    .colab-df-container {\n",
              "      display:flex;\n",
              "      flex-wrap:wrap;\n",
              "      gap: 12px;\n",
              "    }\n",
              "\n",
              "    .colab-df-convert {\n",
              "      background-color: #E8F0FE;\n",
              "      border: none;\n",
              "      border-radius: 50%;\n",
              "      cursor: pointer;\n",
              "      display: none;\n",
              "      fill: #1967D2;\n",
              "      height: 32px;\n",
              "      padding: 0 0 0 0;\n",
              "      width: 32px;\n",
              "    }\n",
              "\n",
              "    .colab-df-convert:hover {\n",
              "      background-color: #E2EBFA;\n",
              "      box-shadow: 0px 1px 2px rgba(60, 64, 67, 0.3), 0px 1px 3px 1px rgba(60, 64, 67, 0.15);\n",
              "      fill: #174EA6;\n",
              "    }\n",
              "\n",
              "    [theme=dark] .colab-df-convert {\n",
              "      background-color: #3B4455;\n",
              "      fill: #D2E3FC;\n",
              "    }\n",
              "\n",
              "    [theme=dark] .colab-df-convert:hover {\n",
              "      background-color: #434B5C;\n",
              "      box-shadow: 0px 1px 3px 1px rgba(0, 0, 0, 0.15);\n",
              "      filter: drop-shadow(0px 1px 2px rgba(0, 0, 0, 0.3));\n",
              "      fill: #FFFFFF;\n",
              "    }\n",
              "  </style>\n",
              "\n",
              "      <script>\n",
              "        const buttonEl =\n",
              "          document.querySelector('#df-1fbb4f72-d8cc-458f-b4ac-875f945fa78d button.colab-df-convert');\n",
              "        buttonEl.style.display =\n",
              "          google.colab.kernel.accessAllowed ? 'block' : 'none';\n",
              "\n",
              "        async function convertToInteractive(key) {\n",
              "          const element = document.querySelector('#df-1fbb4f72-d8cc-458f-b4ac-875f945fa78d');\n",
              "          const dataTable =\n",
              "            await google.colab.kernel.invokeFunction('convertToInteractive',\n",
              "                                                     [key], {});\n",
              "          if (!dataTable) return;\n",
              "\n",
              "          const docLinkHtml = 'Like what you see? Visit the ' +\n",
              "            '<a target=\"_blank\" href=https://colab.research.google.com/notebooks/data_table.ipynb>data table notebook</a>'\n",
              "            + ' to learn more about interactive tables.';\n",
              "          element.innerHTML = '';\n",
              "          dataTable['output_type'] = 'display_data';\n",
              "          await google.colab.output.renderOutput(dataTable, element);\n",
              "          const docLink = document.createElement('div');\n",
              "          docLink.innerHTML = docLinkHtml;\n",
              "          element.appendChild(docLink);\n",
              "        }\n",
              "      </script>\n",
              "    </div>\n",
              "  </div>\n",
              "  "
            ]
          },
          "metadata": {},
          "execution_count": 171
        }
      ]
    },
    {
      "cell_type": "code",
      "source": [
        "y = Data_store['Target']\n",
        "X = Data_store.drop('Target',axis=1)\n",
        "\n",
        "X.shape, y.shape"
      ],
      "metadata": {
        "colab": {
          "base_uri": "https://localhost:8080/"
        },
        "id": "A3Dabj14QLNv",
        "outputId": "ebdb60a3-3af2-4248-94a2-ad4bbf72b9be"
      },
      "execution_count": 172,
      "outputs": [
        {
          "output_type": "execute_result",
          "data": {
            "text/plain": [
              "((11055, 31), (11055,))"
            ]
          },
          "metadata": {},
          "execution_count": 172
        }
      ]
    },
    {
      "cell_type": "code",
      "source": [
        "from sklearn.model_selection import train_test_split\n",
        "\n",
        "X_train, X_test, y_train, y_test = train_test_split(X, y, \n",
        "                                                    test_size = 0.1, random_state = 12)\n",
        "X_train.shape, X_test.shape\n",
        "     "
      ],
      "metadata": {
        "colab": {
          "base_uri": "https://localhost:8080/"
        },
        "id": "Y9hVvenpQSka",
        "outputId": "d3c5bf81-01ec-436b-e12f-06a1eaeb9304"
      },
      "execution_count": 173,
      "outputs": [
        {
          "output_type": "execute_result",
          "data": {
            "text/plain": [
              "((9949, 31), (1106, 31))"
            ]
          },
          "metadata": {},
          "execution_count": 173
        }
      ]
    },
    {
      "cell_type": "code",
      "source": [
        "Data_store.Target.unique()"
      ],
      "metadata": {
        "colab": {
          "base_uri": "https://localhost:8080/"
        },
        "id": "0qEdoqNcfc0F",
        "outputId": "865099c2-812f-42b5-f73a-fc6ef36f2660"
      },
      "execution_count": 174,
      "outputs": [
        {
          "output_type": "execute_result",
          "data": {
            "text/plain": [
              "array([1, 0])"
            ]
          },
          "metadata": {},
          "execution_count": 174
        }
      ]
    },
    {
      "cell_type": "code",
      "source": [
        "Data_store.Target.value_counts()"
      ],
      "metadata": {
        "colab": {
          "base_uri": "https://localhost:8080/"
        },
        "id": "vaB2xqdpfn_m",
        "outputId": "2d0a6df5-8ac7-44e0-e374-4fe7931e866a"
      },
      "execution_count": 176,
      "outputs": [
        {
          "output_type": "execute_result",
          "data": {
            "text/plain": [
              "1    6157\n",
              "0    4898\n",
              "Name: Target, dtype: int64"
            ]
          },
          "metadata": {},
          "execution_count": 176
        }
      ]
    },
    {
      "cell_type": "code",
      "source": [
        "from sklearn.preprocessing import OrdinalEncoder, StandardScaler"
      ],
      "metadata": {
        "id": "XtMXFKKNWfmK"
      },
      "execution_count": 177,
      "outputs": []
    },
    {
      "cell_type": "code",
      "source": [
        "scaler=StandardScaler()\n",
        "X_train=scaler.fit_transform(X_train)\n",
        "X_test=scaler.transform(X_test)"
      ],
      "metadata": {
        "id": "k0r2LLUDfyoH"
      },
      "execution_count": 178,
      "outputs": []
    },
    {
      "cell_type": "code",
      "source": [
        "y_train=y_train.to_numpy()\n",
        "y_test=y_test.to_numpy()"
      ],
      "metadata": {
        "id": "JGKNk4uVf2am"
      },
      "execution_count": 179,
      "outputs": []
    },
    {
      "cell_type": "code",
      "source": [
        "X_train.shape"
      ],
      "metadata": {
        "colab": {
          "base_uri": "https://localhost:8080/"
        },
        "id": "LDrsUB0HUIb_",
        "outputId": "1d4fa426-dfd5-4ce6-9f55-26b11c94233f"
      },
      "execution_count": 180,
      "outputs": [
        {
          "output_type": "execute_result",
          "data": {
            "text/plain": [
              "(9949, 31)"
            ]
          },
          "metadata": {},
          "execution_count": 180
        }
      ]
    },
    {
      "cell_type": "code",
      "source": [
        "X_train=X_train.reshape(X_train.shape[0],X_train.shape[1],1)\n",
        "X_test=X_test.reshape(X_test.shape[0],X_test.shape[1],1)"
      ],
      "metadata": {
        "id": "NShPy96Of56F"
      },
      "execution_count": 181,
      "outputs": []
    },
    {
      "cell_type": "code",
      "source": [
        "import tensorflow as tf\n",
        "from tensorflow.keras import Sequential\n",
        "from tensorflow.keras.layers import BatchNormalization,Dropout,Dense,Flatten,Conv1D\n",
        "from tensorflow.keras.optimizers import Adam\n",
        "from keras.layers import Conv1D, MaxPooling1D\n",
        "from sklearn.model_selection import train_test_split\n",
        "from sklearn.preprocessing import StandardScaler\n"
      ],
      "metadata": {
        "id": "vImbClxogCo4"
      },
      "execution_count": 182,
      "outputs": []
    },
    {
      "cell_type": "code",
      "source": [
        "from tensorflow import keras\n",
        "from tensorflow.keras import layers"
      ],
      "metadata": {
        "id": "c-68JW8Wr9tk"
      },
      "execution_count": 183,
      "outputs": []
    },
    {
      "cell_type": "code",
      "source": [
        "model=Sequential()\n",
        "model.add(Conv1D(128,2,activation='relu',input_shape=X_train[0].shape))\n",
        "model.add(BatchNormalization())\n",
        "model.add(Dropout(0.2))\n",
        "\n",
        "model.add(Conv1D(256,2,activation='relu'))\n",
        "model.add(BatchNormalization())\n",
        "model.add(Dropout(0.5))\n",
        "\n",
        "model.add(Flatten())\n",
        "model.add(Dense(512,activation='relu'))\n",
        "model.add(Dropout(0.5))\n",
        "\n",
        "model.add(Dense(1,activation='sigmoid'))"
      ],
      "metadata": {
        "id": "1UWSWKdQf9le"
      },
      "execution_count": 184,
      "outputs": []
    },
    {
      "cell_type": "code",
      "source": [
        "from keras.utils import plot_model\n",
        "\n",
        "model = Sequential()\n",
        "model.add(Conv1D(128,2,activation='relu',input_shape=X_train[0].shape))\n",
        "model.add(BatchNormalization())\n",
        "model.add(Dropout(0.2))\n",
        "\n",
        "model.add(Conv1D(256,2,activation='relu'))\n",
        "model.add(BatchNormalization())\n",
        "model.add(Dropout(0.5))\n",
        "\n",
        "model.add(Flatten())\n",
        "model.add(Dense(512,activation='relu'))\n",
        "model.add(Dropout(0.5))\n",
        "\n",
        "model.add(Dense(1,activation='sigmoid'))\n",
        "\n",
        "plot_model(model, to_file='model.png', show_shapes=True)"
      ],
      "metadata": {
        "colab": {
          "base_uri": "https://localhost:8080/",
          "height": 1000
        },
        "id": "7BmA6eYYk2BJ",
        "outputId": "cbf99f1b-cb69-4236-f29f-a52e7af085fc"
      },
      "execution_count": 186,
      "outputs": [
        {
          "output_type": "execute_result",
          "data": {
            "image/png": "[encoded data removed]",
            "text/plain": [
              "<IPython.core.display.Image object>"
            ]
          },
          "metadata": {},
          "execution_count": 186
        }
      ]
    },
    {
      "cell_type": "code",
      "source": [
        "model.summary()"
      ],
      "metadata": {
        "colab": {
          "base_uri": "https://localhost:8080/"
        },
        "id": "Q9mm0buai4MG",
        "outputId": "8c2ffd31-2c95-41fe-f060-56762b37bad1"
      },
      "execution_count": 187,
      "outputs": [
        {
          "output_type": "stream",
          "name": "stdout",
          "text": [
            "Model: \"sequential_12\"\n",
            "_________________________________________________________________\n",
            " Layer (type)                Output Shape              Param #   \n",
            "=================================================================\n",
            " conv1d_18 (Conv1D)          (None, 30, 128)           384       \n",
            "                                                                 \n",
            " batch_normalization_14 (Bat  (None, 30, 128)          512       \n",
            " chNormalization)                                                \n",
            "                                                                 \n",
            " dropout_29 (Dropout)        (None, 30, 128)           0         \n",
            "                                                                 \n",
            " conv1d_19 (Conv1D)          (None, 29, 256)           65792     \n",
            "                                                                 \n",
            " batch_normalization_15 (Bat  (None, 29, 256)          1024      \n",
            " chNormalization)                                                \n",
            "                                                                 \n",
            " dropout_30 (Dropout)        (None, 29, 256)           0         \n",
            "                                                                 \n",
            " flatten_9 (Flatten)         (None, 7424)              0         \n",
            "                                                                 \n",
            " dense_20 (Dense)            (None, 512)               3801600   \n",
            "                                                                 \n",
            " dropout_31 (Dropout)        (None, 512)               0         \n",
            "                                                                 \n",
            " dense_21 (Dense)            (None, 1)                 513       \n",
            "                                                                 \n",
            "=================================================================\n",
            "Total params: 3,869,825\n",
            "Trainable params: 3,869,057\n",
            "Non-trainable params: 768\n",
            "_________________________________________________________________\n"
          ]
        }
      ]
    },
    {
      "cell_type": "code",
      "source": [
        "model.compile(\n",
        "    optimizer='adam',\n",
        "    loss='binary_crossentropy',\n",
        "    metrics=['binary_accuracy'],\n",
        "    \n",
        ")"
      ],
      "metadata": {
        "id": "R7ss7_3vgK2k"
      },
      "execution_count": 188,
      "outputs": []
    },
    {
      "cell_type": "code",
      "source": [
        "history = model.fit(\n",
        "    X_train, y_train,\n",
        "    validation_data=(X_test, y_test),\n",
        "    batch_size=512,\n",
        "    epochs=70\n",
        ")"
      ],
      "metadata": {
        "colab": {
          "base_uri": "https://localhost:8080/"
        },
        "id": "UePnhJ08gOTw",
        "outputId": "c78e1b74-bfcc-46bb-b71d-22d428518713"
      },
      "execution_count": 223,
      "outputs": [
        {
          "output_type": "stream",
          "name": "stdout",
          "text": [
            "Epoch 1/70\n",
            "20/20 [==============================] - 11s 503ms/step - loss: 0.0299 - binary_accuracy: 0.9859 - val_loss: 0.0517 - val_binary_accuracy: 0.9801\n",
            "Epoch 2/70\n",
            "20/20 [==============================] - 9s 447ms/step - loss: 0.0313 - binary_accuracy: 0.9858 - val_loss: 0.0515 - val_binary_accuracy: 0.9810\n",
            "Epoch 3/70\n",
            "20/20 [==============================] - 9s 452ms/step - loss: 0.0273 - binary_accuracy: 0.9867 - val_loss: 0.0522 - val_binary_accuracy: 0.9801\n",
            "Epoch 4/70\n",
            "20/20 [==============================] - 9s 453ms/step - loss: 0.0307 - binary_accuracy: 0.9867 - val_loss: 0.0531 - val_binary_accuracy: 0.9783\n",
            "Epoch 5/70\n",
            "20/20 [==============================] - 9s 451ms/step - loss: 0.0272 - binary_accuracy: 0.9876 - val_loss: 0.0534 - val_binary_accuracy: 0.9801\n",
            "Epoch 6/70\n",
            "20/20 [==============================] - 9s 451ms/step - loss: 0.0311 - binary_accuracy: 0.9847 - val_loss: 0.0527 - val_binary_accuracy: 0.9810\n",
            "Epoch 7/70\n",
            "20/20 [==============================] - 9s 452ms/step - loss: 0.0310 - binary_accuracy: 0.9849 - val_loss: 0.0519 - val_binary_accuracy: 0.9783\n",
            "Epoch 8/70\n",
            "20/20 [==============================] - 9s 451ms/step - loss: 0.0280 - binary_accuracy: 0.9865 - val_loss: 0.0514 - val_binary_accuracy: 0.9801\n",
            "Epoch 9/70\n",
            "20/20 [==============================] - 9s 449ms/step - loss: 0.0273 - binary_accuracy: 0.9870 - val_loss: 0.0531 - val_binary_accuracy: 0.9756\n",
            "Epoch 10/70\n",
            "20/20 [==============================] - 9s 450ms/step - loss: 0.0308 - binary_accuracy: 0.9849 - val_loss: 0.0543 - val_binary_accuracy: 0.9738\n",
            "Epoch 11/70\n",
            "20/20 [==============================] - 9s 451ms/step - loss: 0.0301 - binary_accuracy: 0.9839 - val_loss: 0.0549 - val_binary_accuracy: 0.9783\n",
            "Epoch 12/70\n",
            "20/20 [==============================] - 9s 452ms/step - loss: 0.0303 - binary_accuracy: 0.9848 - val_loss: 0.0554 - val_binary_accuracy: 0.9774\n",
            "Epoch 13/70\n",
            "20/20 [==============================] - 9s 452ms/step - loss: 0.0294 - binary_accuracy: 0.9864 - val_loss: 0.0567 - val_binary_accuracy: 0.9747\n",
            "Epoch 14/70\n",
            "20/20 [==============================] - 9s 450ms/step - loss: 0.0288 - binary_accuracy: 0.9864 - val_loss: 0.0573 - val_binary_accuracy: 0.9774\n",
            "Epoch 15/70\n",
            "20/20 [==============================] - 9s 452ms/step - loss: 0.0314 - binary_accuracy: 0.9851 - val_loss: 0.0588 - val_binary_accuracy: 0.9783\n",
            "Epoch 16/70\n",
            "20/20 [==============================] - 9s 450ms/step - loss: 0.0301 - binary_accuracy: 0.9854 - val_loss: 0.0573 - val_binary_accuracy: 0.9765\n",
            "Epoch 17/70\n",
            "20/20 [==============================] - 9s 452ms/step - loss: 0.0302 - binary_accuracy: 0.9848 - val_loss: 0.0567 - val_binary_accuracy: 0.9783\n",
            "Epoch 18/70\n",
            "20/20 [==============================] - 9s 454ms/step - loss: 0.0295 - binary_accuracy: 0.9856 - val_loss: 0.0561 - val_binary_accuracy: 0.9774\n",
            "Epoch 19/70\n",
            "20/20 [==============================] - 9s 447ms/step - loss: 0.0286 - binary_accuracy: 0.9860 - val_loss: 0.0572 - val_binary_accuracy: 0.9774\n",
            "Epoch 20/70\n",
            "20/20 [==============================] - 9s 452ms/step - loss: 0.0287 - binary_accuracy: 0.9853 - val_loss: 0.0581 - val_binary_accuracy: 0.9792\n",
            "Epoch 21/70\n",
            "20/20 [==============================] - 9s 450ms/step - loss: 0.0273 - binary_accuracy: 0.9863 - val_loss: 0.0605 - val_binary_accuracy: 0.9774\n",
            "Epoch 22/70\n",
            "20/20 [==============================] - 9s 445ms/step - loss: 0.0292 - binary_accuracy: 0.9863 - val_loss: 0.0606 - val_binary_accuracy: 0.9774\n",
            "Epoch 23/70\n",
            "20/20 [==============================] - 9s 448ms/step - loss: 0.0274 - binary_accuracy: 0.9867 - val_loss: 0.0604 - val_binary_accuracy: 0.9747\n",
            "Epoch 24/70\n",
            "20/20 [==============================] - 9s 451ms/step - loss: 0.0276 - binary_accuracy: 0.9869 - val_loss: 0.0592 - val_binary_accuracy: 0.9765\n",
            "Epoch 25/70\n",
            "20/20 [==============================] - 9s 449ms/step - loss: 0.0279 - binary_accuracy: 0.9854 - val_loss: 0.0554 - val_binary_accuracy: 0.9792\n",
            "Epoch 26/70\n",
            "20/20 [==============================] - 9s 448ms/step - loss: 0.0272 - binary_accuracy: 0.9860 - val_loss: 0.0549 - val_binary_accuracy: 0.9819\n",
            "Epoch 27/70\n",
            "20/20 [==============================] - 9s 448ms/step - loss: 0.0290 - binary_accuracy: 0.9856 - val_loss: 0.0570 - val_binary_accuracy: 0.9810\n",
            "Epoch 28/70\n",
            "20/20 [==============================] - 9s 444ms/step - loss: 0.0290 - binary_accuracy: 0.9856 - val_loss: 0.0564 - val_binary_accuracy: 0.9810\n",
            "Epoch 29/70\n",
            "20/20 [==============================] - 9s 446ms/step - loss: 0.0285 - binary_accuracy: 0.9866 - val_loss: 0.0543 - val_binary_accuracy: 0.9792\n",
            "Epoch 30/70\n",
            "20/20 [==============================] - 9s 449ms/step - loss: 0.0269 - binary_accuracy: 0.9865 - val_loss: 0.0543 - val_binary_accuracy: 0.9792\n",
            "Epoch 31/70\n",
            "20/20 [==============================] - 9s 453ms/step - loss: 0.0303 - binary_accuracy: 0.9852 - val_loss: 0.0553 - val_binary_accuracy: 0.9783\n",
            "Epoch 32/70\n",
            "20/20 [==============================] - 9s 451ms/step - loss: 0.0278 - binary_accuracy: 0.9870 - val_loss: 0.0561 - val_binary_accuracy: 0.9801\n",
            "Epoch 33/70\n",
            "20/20 [==============================] - 9s 465ms/step - loss: 0.0273 - binary_accuracy: 0.9856 - val_loss: 0.0570 - val_binary_accuracy: 0.9819\n",
            "Epoch 34/70\n",
            "20/20 [==============================] - 9s 466ms/step - loss: 0.0278 - binary_accuracy: 0.9867 - val_loss: 0.0567 - val_binary_accuracy: 0.9810\n",
            "Epoch 35/70\n",
            "20/20 [==============================] - 9s 466ms/step - loss: 0.0277 - binary_accuracy: 0.9872 - val_loss: 0.0556 - val_binary_accuracy: 0.9801\n",
            "Epoch 36/70\n",
            "20/20 [==============================] - 9s 451ms/step - loss: 0.0267 - binary_accuracy: 0.9877 - val_loss: 0.0560 - val_binary_accuracy: 0.9792\n",
            "Epoch 37/70\n",
            "20/20 [==============================] - 9s 447ms/step - loss: 0.0268 - binary_accuracy: 0.9869 - val_loss: 0.0573 - val_binary_accuracy: 0.9783\n",
            "Epoch 38/70\n",
            "20/20 [==============================] - 9s 452ms/step - loss: 0.0267 - binary_accuracy: 0.9875 - val_loss: 0.0562 - val_binary_accuracy: 0.9783\n",
            "Epoch 39/70\n",
            "20/20 [==============================] - 9s 449ms/step - loss: 0.0295 - binary_accuracy: 0.9851 - val_loss: 0.0546 - val_binary_accuracy: 0.9774\n",
            "Epoch 40/70\n",
            "20/20 [==============================] - 9s 453ms/step - loss: 0.0279 - binary_accuracy: 0.9861 - val_loss: 0.0546 - val_binary_accuracy: 0.9792\n",
            "Epoch 41/70\n",
            "20/20 [==============================] - 9s 449ms/step - loss: 0.0277 - binary_accuracy: 0.9861 - val_loss: 0.0548 - val_binary_accuracy: 0.9783\n",
            "Epoch 42/70\n",
            "20/20 [==============================] - 9s 444ms/step - loss: 0.0281 - binary_accuracy: 0.9855 - val_loss: 0.0565 - val_binary_accuracy: 0.9801\n",
            "Epoch 43/70\n",
            "20/20 [==============================] - 9s 446ms/step - loss: 0.0278 - binary_accuracy: 0.9873 - val_loss: 0.0565 - val_binary_accuracy: 0.9774\n",
            "Epoch 44/70\n",
            "20/20 [==============================] - 9s 450ms/step - loss: 0.0276 - binary_accuracy: 0.9868 - val_loss: 0.0570 - val_binary_accuracy: 0.9765\n",
            "Epoch 45/70\n",
            "20/20 [==============================] - 9s 448ms/step - loss: 0.0280 - binary_accuracy: 0.9861 - val_loss: 0.0577 - val_binary_accuracy: 0.9774\n",
            "Epoch 46/70\n",
            "20/20 [==============================] - 9s 447ms/step - loss: 0.0278 - binary_accuracy: 0.9866 - val_loss: 0.0587 - val_binary_accuracy: 0.9756\n",
            "Epoch 47/70\n",
            "20/20 [==============================] - 9s 452ms/step - loss: 0.0277 - binary_accuracy: 0.9865 - val_loss: 0.0605 - val_binary_accuracy: 0.9774\n",
            "Epoch 48/70\n",
            "20/20 [==============================] - 9s 450ms/step - loss: 0.0256 - binary_accuracy: 0.9876 - val_loss: 0.0603 - val_binary_accuracy: 0.9774\n",
            "Epoch 49/70\n",
            "20/20 [==============================] - 9s 450ms/step - loss: 0.0263 - binary_accuracy: 0.9877 - val_loss: 0.0616 - val_binary_accuracy: 0.9792\n",
            "Epoch 50/70\n",
            "20/20 [==============================] - 9s 455ms/step - loss: 0.0278 - binary_accuracy: 0.9861 - val_loss: 0.0615 - val_binary_accuracy: 0.9756\n",
            "Epoch 51/70\n",
            "20/20 [==============================] - 9s 453ms/step - loss: 0.0278 - binary_accuracy: 0.9871 - val_loss: 0.0619 - val_binary_accuracy: 0.9765\n",
            "Epoch 52/70\n",
            "20/20 [==============================] - 9s 452ms/step - loss: 0.0276 - binary_accuracy: 0.9857 - val_loss: 0.0597 - val_binary_accuracy: 0.9774\n",
            "Epoch 53/70\n",
            "20/20 [==============================] - 9s 448ms/step - loss: 0.0278 - binary_accuracy: 0.9866 - val_loss: 0.0601 - val_binary_accuracy: 0.9783\n",
            "Epoch 54/70\n",
            "20/20 [==============================] - 9s 450ms/step - loss: 0.0264 - binary_accuracy: 0.9874 - val_loss: 0.0615 - val_binary_accuracy: 0.9801\n",
            "Epoch 55/70\n",
            "20/20 [==============================] - 9s 451ms/step - loss: 0.0292 - binary_accuracy: 0.9851 - val_loss: 0.0602 - val_binary_accuracy: 0.9801\n",
            "Epoch 56/70\n",
            "20/20 [==============================] - 9s 447ms/step - loss: 0.0254 - binary_accuracy: 0.9871 - val_loss: 0.0591 - val_binary_accuracy: 0.9774\n",
            "Epoch 57/70\n",
            "20/20 [==============================] - 9s 444ms/step - loss: 0.0279 - binary_accuracy: 0.9877 - val_loss: 0.0609 - val_binary_accuracy: 0.9783\n",
            "Epoch 58/70\n",
            "20/20 [==============================] - 9s 444ms/step - loss: 0.0266 - binary_accuracy: 0.9873 - val_loss: 0.0627 - val_binary_accuracy: 0.9774\n",
            "Epoch 59/70\n",
            "20/20 [==============================] - 9s 446ms/step - loss: 0.0266 - binary_accuracy: 0.9874 - val_loss: 0.0620 - val_binary_accuracy: 0.9783\n",
            "Epoch 60/70\n",
            "20/20 [==============================] - 9s 445ms/step - loss: 0.0264 - binary_accuracy: 0.9875 - val_loss: 0.0597 - val_binary_accuracy: 0.9765\n",
            "Epoch 61/70\n",
            "20/20 [==============================] - 9s 444ms/step - loss: 0.0268 - binary_accuracy: 0.9877 - val_loss: 0.0611 - val_binary_accuracy: 0.9765\n",
            "Epoch 62/70\n",
            "20/20 [==============================] - 9s 443ms/step - loss: 0.0279 - binary_accuracy: 0.9865 - val_loss: 0.0601 - val_binary_accuracy: 0.9783\n",
            "Epoch 63/70\n",
            "20/20 [==============================] - 9s 443ms/step - loss: 0.0267 - binary_accuracy: 0.9866 - val_loss: 0.0603 - val_binary_accuracy: 0.9783\n",
            "Epoch 64/70\n",
            "20/20 [==============================] - 9s 446ms/step - loss: 0.0255 - binary_accuracy: 0.9879 - val_loss: 0.0612 - val_binary_accuracy: 0.9774\n",
            "Epoch 65/70\n",
            "20/20 [==============================] - 9s 441ms/step - loss: 0.0256 - binary_accuracy: 0.9884 - val_loss: 0.0636 - val_binary_accuracy: 0.9774\n",
            "Epoch 66/70\n",
            "20/20 [==============================] - 9s 444ms/step - loss: 0.0267 - binary_accuracy: 0.9864 - val_loss: 0.0635 - val_binary_accuracy: 0.9774\n",
            "Epoch 67/70\n",
            "20/20 [==============================] - 9s 444ms/step - loss: 0.0258 - binary_accuracy: 0.9856 - val_loss: 0.0646 - val_binary_accuracy: 0.9792\n",
            "Epoch 68/70\n",
            "20/20 [==============================] - 9s 441ms/step - loss: 0.0258 - binary_accuracy: 0.9866 - val_loss: 0.0605 - val_binary_accuracy: 0.9801\n",
            "Epoch 69/70\n",
            "20/20 [==============================] - 9s 443ms/step - loss: 0.0264 - binary_accuracy: 0.9867 - val_loss: 0.0628 - val_binary_accuracy: 0.9792\n",
            "Epoch 70/70\n",
            "20/20 [==============================] - 9s 442ms/step - loss: 0.0270 - binary_accuracy: 0.9861 - val_loss: 0.0635 - val_binary_accuracy: 0.9792\n"
          ]
        }
      ]
    },
    {
      "cell_type": "code",
      "source": [],
      "metadata": {
        "id": "XMSew4o_3TFA"
      },
      "execution_count": 189,
      "outputs": []
    },
    {
      "cell_type": "code",
      "source": [
        "epochs = list(range(70))\n",
        "acc = history.history['binary_accuracy']\n",
        "val_acc = history.history['val_binary_accuracy']\n",
        "\n",
        "plt.plot(epochs, acc, label='train accuracy')\n",
        "plt.plot(epochs, val_acc, label='val accuracy')\n",
        "plt.xlabel('epochs')\n",
        "plt.ylabel('accuracy')\n",
        "plt.legend()\n",
        "plt.show()"
      ],
      "metadata": {
        "colab": {
          "base_uri": "https://localhost:8080/",
          "height": 279
        },
        "id": "ThGCNtfTjqzr",
        "outputId": "f323556b-03b1-4027-d692-dca28aec070c"
      },
      "execution_count": 224,
      "outputs": [
        {
          "output_type": "display_data",
          "data": {
            "text/plain": [
              "<Figure size 432x288 with 1 Axes>"
            ],
            "image/png": "[encoded data removed]"
          },
          "metadata": {
            "needs_background": "light"
          }
        }
      ]
    },
    {
      "cell_type": "code",
      "source": [
        "loss = history.history['loss']\n",
        "val_loss = history.history['val_loss']\n",
        "\n",
        "plt.plot(epochs, loss, label='train loss')\n",
        "plt.plot(epochs, val_loss, label='val loss')\n",
        "plt.xlabel('epochs')\n",
        "plt.ylabel('loss')\n",
        "plt.legend()\n",
        "plt.show()"
      ],
      "metadata": {
        "colab": {
          "base_uri": "https://localhost:8080/",
          "height": 279
        },
        "id": "c6ZYo__inCi-",
        "outputId": "650e3b62-d5cd-41a8-d3b0-12032e63e9fa"
      },
      "execution_count": 225,
      "outputs": [
        {
          "output_type": "display_data",
          "data": {
            "text/plain": [
              "<Figure size 432x288 with 1 Axes>"
            ],
            "image/png": "[encoded data removed]"
          },
          "metadata": {
            "needs_background": "light"
          }
        }
      ]
    },
    {
      "cell_type": "code",
      "source": [
        "ypred=model.predict(X_test)"
      ],
      "metadata": {
        "colab": {
          "base_uri": "https://localhost:8080/"
        },
        "id": "Ael40ULK2t9f",
        "outputId": "e1155a18-ef16-4c9a-d7c1-040fe9ed5a1d"
      },
      "execution_count": 226,
      "outputs": [
        {
          "output_type": "stream",
          "name": "stdout",
          "text": [
            "35/35 [==============================] - 0s 11ms/step\n"
          ]
        }
      ]
    },
    {
      "cell_type": "code",
      "source": [
        "ypred = (ypred>0.5)"
      ],
      "metadata": {
        "id": "CjzQrrgV6VXE"
      },
      "execution_count": 227,
      "outputs": []
    },
    {
      "cell_type": "code",
      "source": [
        "from sklearn.metrics import confusion_matrix\n",
        "from sklearn.metrics import accuracy_score\n",
        "from sklearn import metrics"
      ],
      "metadata": {
        "id": "elyA1F7I3Onu"
      },
      "execution_count": 228,
      "outputs": []
    },
    {
      "cell_type": "code",
      "source": [
        "cm = confusion_matrix(y_test, ypred)\n",
        "sns.heatmap(cm, annot=True, fmt=\"d\")"
      ],
      "metadata": {
        "colab": {
          "base_uri": "https://localhost:8080/",
          "height": 282
        },
        "id": "VRJe1KaK3Sil",
        "outputId": "81677bc7-8b00-427d-94e6-21b31788072e"
      },
      "execution_count": 229,
      "outputs": [
        {
          "output_type": "execute_result",
          "data": {
            "text/plain": [
              "<matplotlib.axes._subplots.AxesSubplot at 0x7fcad01cbfd0>"
            ]
          },
          "metadata": {},
          "execution_count": 229
        },
        {
          "output_type": "display_data",
          "data": {
            "text/plain": [
              "<Figure size 432x288 with 2 Axes>"
            ],
            "image/png": "[encoded data removed]"
          },
          "metadata": {
            "needs_background": "light"
          }
        }
      ]
    },
    {
      "cell_type": "code",
      "source": [
        "accuracy_score(y_test, ypred)"
      ],
      "metadata": {
        "colab": {
          "base_uri": "https://localhost:8080/"
        },
        "id": "gqQzj1YD3ZhI",
        "outputId": "18fdc544-42f0-475c-a991-bef5c624dcd3"
      },
      "execution_count": 230,
      "outputs": [
        {
          "output_type": "execute_result",
          "data": {
            "text/plain": [
              "0.9792043399638336"
            ]
          },
          "metadata": {},
          "execution_count": 230
        }
      ]
    },
    {
      "cell_type": "code",
      "source": [
        "from sklearn.metrics import roc_curve\n",
        "import matplotlib.pyplot as plt\n",
        "%matplotlib inline"
      ],
      "metadata": {
        "id": "nfnL26s53kVg"
      },
      "execution_count": 231,
      "outputs": []
    },
    {
      "cell_type": "code",
      "source": [
        "fpr, tpr, thresholds = roc_curve(y_test, ypred)\n",
        "\n",
        "plt.plot(fpr, tpr, label='ROC curve')\n",
        "plt.plot([0, 1], [0, 1], 'k--', label='Random guess')\n",
        "plt.xlabel('False Positive Rate')\n",
        "plt.ylabel('True Positive Rate')\n",
        "plt.title('ROC Curve')\n",
        "plt.xlim([-0.02, 1])\n",
        "plt.ylim([0, 1.02])\n",
        "plt.legend(loc=\"lower right\")"
      ],
      "metadata": {
        "colab": {
          "base_uri": "https://localhost:8080/",
          "height": 312
        },
        "id": "Kf-QZ7nE3nNh",
        "outputId": "64bb32ed-a24d-4663-d6bc-fae75999037a"
      },
      "execution_count": 232,
      "outputs": [
        {
          "output_type": "execute_result",
          "data": {
            "text/plain": [
              "<matplotlib.legend.Legend at 0x7fcad0475d00>"
            ]
          },
          "metadata": {},
          "execution_count": 232
        },
        {
          "output_type": "display_data",
          "data": {
            "text/plain": [
              "<Figure size 432x288 with 1 Axes>"
            ],
            "image/png": "[encoded data removed]"
          },
          "metadata": {
            "needs_background": "light"
          }
        }
      ]
    },
    {
      "cell_type": "code",
      "source": [
        "macro_averaged_precision = metrics.precision_score(y_test, ypred, average = 'macro')\n",
        "print(f\"Macro-Averaged Precision score using sklearn library : {macro_averaged_precision}\")"
      ],
      "metadata": {
        "colab": {
          "base_uri": "https://localhost:8080/"
        },
        "id": "CHpIUKx94HzF",
        "outputId": "9387a657-ace5-49ee-934e-04afd9289567"
      },
      "execution_count": 233,
      "outputs": [
        {
          "output_type": "stream",
          "name": "stdout",
          "text": [
            "Macro-Averaged Precision score using sklearn library : 0.9794524624311858\n"
          ]
        }
      ]
    },
    {
      "cell_type": "code",
      "source": [
        "micro_averaged_precision = metrics.precision_score(y_test, ypred, average = 'micro')\n",
        "print(f\"Micro-Averaged Precision score using sklearn library : {micro_averaged_precision}\")"
      ],
      "metadata": {
        "colab": {
          "base_uri": "https://localhost:8080/"
        },
        "id": "tfMD138I4Omo",
        "outputId": "38189f65-e5a6-4985-d120-954e142796f1"
      },
      "execution_count": 218,
      "outputs": [
        {
          "output_type": "stream",
          "name": "stdout",
          "text": [
            "Micro-Averaged Precision score using sklearn library : 0.9801084990958409\n"
          ]
        }
      ]
    },
    {
      "cell_type": "code",
      "source": [
        "macro_averaged_recall = metrics.recall_score(y_test, ypred, average = 'macro')\n",
        "print(f\"Macro-averaged recall score using sklearn : {macro_averaged_recall}\")"
      ],
      "metadata": {
        "colab": {
          "base_uri": "https://localhost:8080/"
        },
        "id": "bKYKy9YT4Sg_",
        "outputId": "06deda4b-41c9-4195-fcf0-cab20b14beaf"
      },
      "execution_count": 219,
      "outputs": [
        {
          "output_type": "stream",
          "name": "stdout",
          "text": [
            "Macro-averaged recall score using sklearn : 0.9797491749174918\n"
          ]
        }
      ]
    },
    {
      "cell_type": "code",
      "source": [
        "micro_averaged_recall = metrics.recall_score(y_test, ypred, average = 'micro')\n",
        "print(f\"Micro-Averaged recall score using sklearn library : {micro_averaged_recall}\")"
      ],
      "metadata": {
        "colab": {
          "base_uri": "https://localhost:8080/"
        },
        "id": "i-ClqnuT4V2K",
        "outputId": "dc6d5338-9988-4fef-e3ba-ce65791a93b0"
      },
      "execution_count": 220,
      "outputs": [
        {
          "output_type": "stream",
          "name": "stdout",
          "text": [
            "Micro-Averaged recall score using sklearn library : 0.9801084990958409\n"
          ]
        }
      ]
    },
    {
      "cell_type": "code",
      "source": [
        "macro_averaged_f1 = metrics.f1_score(y_test, ypred, average = 'macro')\n",
        "print(f\"Macro-Averaged F1 score using sklearn library : {macro_averaged_f1}\")"
      ],
      "metadata": {
        "colab": {
          "base_uri": "https://localhost:8080/"
        },
        "id": "JARe4iad4Zsn",
        "outputId": "b4d6e0a0-ea00-4c27-ec7a-92413d896449"
      },
      "execution_count": 221,
      "outputs": [
        {
          "output_type": "stream",
          "name": "stdout",
          "text": [
            "Macro-Averaged F1 score using sklearn library : 0.9799170003928779\n"
          ]
        }
      ]
    },
    {
      "cell_type": "code",
      "source": [
        "micro_averaged_f1 = metrics.f1_score(y_test, ypred, average = 'micro')\n",
        "print(f\"Micro-Averaged F1 score using sklearn library : {micro_averaged_f1}\")"
      ],
      "metadata": {
        "colab": {
          "base_uri": "https://localhost:8080/"
        },
        "id": "p0Op2H_d4aU9",
        "outputId": "cadc87b4-a67c-4a9c-89fd-f5529f6f08b3"
      },
      "execution_count": 222,
      "outputs": [
        {
          "output_type": "stream",
          "name": "stdout",
          "text": [
            "Micro-Averaged F1 score using sklearn library : 0.9801084990958409\n"
          ]
        }
      ]
    }
  ],
  "metadata": {
    "colab": {
      "provenance": []
    },
    "kernelspec": {
      "display_name": "Python 3",
      "language": "python",
      "name": "python3"
    },
    "language_info": {
      "codemirror_mode": {
        "name": "ipython",
        "version": 3
      },
      "file_extension": ".py",
      "mimetype": "text/x-python",
      "name": "python",
      "nbconvert_exporter": "python",
      "pygments_lexer": "ipython3",
      "version": "3.11.0"
    },
    "vscode": {
      "interpreter": {
        "hash": "aa34c2c0366503f35b942000349a68fb942c81d803982253fb3dc9df69c8192f"
      }
    }
  },
  "nbformat": 4,
  "nbformat_minor": 0
}